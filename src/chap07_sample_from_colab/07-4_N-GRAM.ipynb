{
 "cells": [
  {
   "cell_type": "markdown",
   "metadata": {},
   "source": [
    "# 07-4. N-GRAM"
   ]
  },
  {
   "cell_type": "code",
   "execution_count": 1,
   "metadata": {
    "executionInfo": {
     "elapsed": 535,
     "status": "ok",
     "timestamp": 1730874633221,
     "user": {
      "displayName": "천국",
      "userId": "14827418028065544275"
     },
     "user_tz": -540
    },
    "id": "d66GZ-7bImpR"
   },
   "outputs": [],
   "source": [
    "# N-GRAM 언어 모델 기본형\n",
    "\n",
    "def ngram(text, n):\n",
    "  return zip(*[text[i:] for i in range(n)])"
   ]
  },
  {
   "cell_type": "code",
   "execution_count": 2,
   "metadata": {
    "colab": {
     "base_uri": "https://localhost:8080/"
    },
    "executionInfo": {
     "elapsed": 346,
     "status": "ok",
     "timestamp": 1730874870035,
     "user": {
      "displayName": "천국",
      "userId": "14827418028065544275"
     },
     "user_tz": -540
    },
    "id": "evCsgnB2KvNB",
    "outputId": "9393a97a-1998-4c9e-e824-1888538c4fb7"
   },
   "outputs": [
    {
     "name": "stdout",
     "output_type": "stream",
     "text": [
      "[('오', '늘', ' '), ('늘', ' ', '날'), (' ', '날', '씨'), ('날', '씨', '는'), ('씨', '는', ' '), ('는', ' ', '비')]\n"
     ]
    }
   ],
   "source": [
    "# 텍스트 전달\n",
    "print([i for i in ngram(\"오늘 날씨는 비\", 3)])"
   ]
  },
  {
   "cell_type": "code",
   "execution_count": 4,
   "metadata": {
    "colab": {
     "base_uri": "https://localhost:8080/"
    },
    "executionInfo": {
     "elapsed": 348,
     "status": "ok",
     "timestamp": 1730875262299,
     "user": {
      "displayName": "천국",
      "userId": "14827418028065544275"
     },
     "user_tz": -540
    },
    "id": "Im6GkF_IMWit",
    "outputId": "4e03f3dd-b4dc-47fa-fdef-002ed9da0574"
   },
   "outputs": [
    {
     "name": "stdout",
     "output_type": "stream",
     "text": [
      "['It', 'is', 'raining', 'today']\n",
      "[('It', 'is', 'raining'), ('is', 'raining', 'today')]\n"
     ]
    }
   ],
   "source": [
    "sentence_list = \"It is raining today\".split()\n",
    "print(sentence_list)\n",
    "print([i for i in ngram(sentence_list, 3)])"
   ]
  },
  {
   "cell_type": "markdown",
   "metadata": {
    "id": "7jcK7UI5NZuL"
   },
   "source": [
    "## 한국어 처리"
   ]
  },
  {
   "cell_type": "code",
   "execution_count": 5,
   "metadata": {
    "colab": {
     "base_uri": "https://localhost:8080/"
    },
    "executionInfo": {
     "elapsed": 6204,
     "status": "ok",
     "timestamp": 1730875442306,
     "user": {
      "displayName": "천국",
      "userId": "14827418028065544275"
     },
     "user_tz": -540
    },
    "id": "YHwxYEmrNXmw",
    "outputId": "ba50b40b-3375-45e0-aa0f-1bb6abcd48bd"
   },
   "outputs": [
    {
     "name": "stdout",
     "output_type": "stream",
     "text": [
      "Collecting konlpy\n",
      "  Downloading konlpy-0.6.0-py2.py3-none-any.whl.metadata (1.9 kB)\n",
      "Collecting JPype1>=0.7.0 (from konlpy)\n",
      "  Downloading JPype1-1.5.0-cp310-cp310-manylinux_2_17_x86_64.manylinux2014_x86_64.whl.metadata (4.9 kB)\n",
      "Requirement already satisfied: lxml>=4.1.0 in /usr/local/lib/python3.10/dist-packages (from konlpy) (5.3.0)\n",
      "Requirement already satisfied: numpy>=1.6 in /usr/local/lib/python3.10/dist-packages (from konlpy) (1.26.4)\n",
      "Requirement already satisfied: packaging in /usr/local/lib/python3.10/dist-packages (from JPype1>=0.7.0->konlpy) (24.1)\n",
      "Downloading konlpy-0.6.0-py2.py3-none-any.whl (19.4 MB)\n",
      "\u001b[2K   \u001b[90m━━━━━━━━━━━━━━━━━━━━━━━━━━━━━━━━━━━━━━━━\u001b[0m \u001b[32m19.4/19.4 MB\u001b[0m \u001b[31m46.8 MB/s\u001b[0m eta \u001b[36m0:00:00\u001b[0m\n",
      "\u001b[?25hDownloading JPype1-1.5.0-cp310-cp310-manylinux_2_17_x86_64.manylinux2014_x86_64.whl (488 kB)\n",
      "\u001b[2K   \u001b[90m━━━━━━━━━━━━━━━━━━━━━━━━━━━━━━━━━━━━━━━━\u001b[0m \u001b[32m488.6/488.6 kB\u001b[0m \u001b[31m24.7 MB/s\u001b[0m eta \u001b[36m0:00:00\u001b[0m\n",
      "\u001b[?25hInstalling collected packages: JPype1, konlpy\n",
      "Successfully installed JPype1-1.5.0 konlpy-0.6.0\n"
     ]
    }
   ],
   "source": [
    "# konlpy를 설치\n",
    "\n",
    "!pip install konlpy"
   ]
  },
  {
   "cell_type": "code",
   "execution_count": 7,
   "metadata": {
    "colab": {
     "base_uri": "https://localhost:8080/"
    },
    "executionInfo": {
     "elapsed": 374,
     "status": "ok",
     "timestamp": 1730875824911,
     "user": {
      "displayName": "천국",
      "userId": "14827418028065544275"
     },
     "user_tz": -540
    },
    "id": "DswVKvW-N2Ia",
    "outputId": "b999d629-5bd1-4bbb-d203-489e9d80eab7"
   },
   "outputs": [
    {
     "name": "stdout",
     "output_type": "stream",
     "text": [
      "['오늘', '날씨', '는', '비']\n",
      "['오늘날씨는', '날씨는비']\n"
     ]
    }
   ],
   "source": [
    "from konlpy.tag import Okt\n",
    "\n",
    "# Okt 객체 생성\n",
    "okt = Okt()\n",
    "\n",
    "# 입력 테스트 토큰화\n",
    "sentence_list = [w for w in Okt().morphs(\"오늘 날씨는 비\")]\n",
    "\n",
    "print(sentence_list)\n",
    "print([\"\".join(li) for li in ngram(sentence_list, 3)])"
   ]
  },
  {
   "cell_type": "code",
   "execution_count": 8,
   "metadata": {
    "colab": {
     "base_uri": "https://localhost:8080/"
    },
    "executionInfo": {
     "elapsed": 349,
     "status": "ok",
     "timestamp": 1730877455585,
     "user": {
      "displayName": "천국",
      "userId": "14827418028065544275"
     },
     "user_tz": -540
    },
    "id": "9vEDkO98TxdP",
    "outputId": "53563656-3744-43dc-84a6-cfb29a33a7b4"
   },
   "outputs": [
    {
     "data": {
      "text/plain": [
       "defaultdict(<function __main__.train.<locals>.<lambda>()>,\n",
       "            {('오늘', '날씨'): defaultdict(int, {'는': 1}),\n",
       "             ('날씨', '는'): defaultdict(int, {'비': 1})})"
      ]
     },
     "execution_count": 8,
     "metadata": {},
     "output_type": "execute_result"
    }
   ],
   "source": [
    "from collections import defaultdict\n",
    "\n",
    "def train(text, n):\n",
    "  model = defaultdict(lambda: defaultdict(int))\n",
    "  for w in ngram(text, n):\n",
    "    model[w[:-1]][w[-1]] += 1\n",
    "  return model\n",
    "\n",
    "train(sentence_list, 3)"
   ]
  },
  {
   "cell_type": "code",
   "execution_count": 10,
   "metadata": {
    "colab": {
     "base_uri": "https://localhost:8080/"
    },
    "executionInfo": {
     "elapsed": 361,
     "status": "ok",
     "timestamp": 1730878232284,
     "user": {
      "displayName": "천국",
      "userId": "14827418028065544275"
     },
     "user_tz": -540
    },
    "id": "0rcI5Wh_WOX9",
    "outputId": "d58395c5-41bf-472a-f128-f18f9891f1bd"
   },
   "outputs": [
    {
     "data": {
      "text/plain": [
       "[('는', 1), ('비', 1)]"
      ]
     },
     "execution_count": 10,
     "metadata": {},
     "output_type": "execute_result"
    }
   ],
   "source": [
    "def predict(model, n, prefix):\n",
    "  next_words = []\n",
    "\n",
    "  for w in ngram(prefix, n-1):\n",
    "    for next_word, count in model[w].items():\n",
    "      next_words.append((next_word, count))\n",
    "\n",
    "  return sorted(next_words, key=lambda x: x[1], reverse=True)\n",
    "\n",
    "model = train(sentence_list, 3)\n",
    "predict(model, 3, sentence_list[:-1])"
   ]
  }
 ],
 "metadata": {
  "colab": {
   "authorship_tag": "ABX9TyNPmu7WZaw0Tb8WtXw0E2Wy",
   "provenance": []
  },
  "kernelspec": {
   "display_name": "Python 3 (ipykernel)",
   "language": "python",
   "name": "python3"
  },
  "language_info": {
   "codemirror_mode": {
    "name": "ipython",
    "version": 3
   },
   "file_extension": ".py",
   "mimetype": "text/x-python",
   "name": "python",
   "nbconvert_exporter": "python",
   "pygments_lexer": "ipython3",
   "version": "3.8.19"
  }
 },
 "nbformat": 4,
 "nbformat_minor": 1
}
