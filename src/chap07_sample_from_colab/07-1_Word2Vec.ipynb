{
 "cells": [
  {
   "cell_type": "markdown",
   "metadata": {},
   "source": [
    "# 07-1. Word2Vec"
   ]
  },
  {
   "cell_type": "code",
   "execution_count": 2,
   "metadata": {
    "colab": {
     "base_uri": "https://localhost:8080/"
    },
    "executionInfo": {
     "elapsed": 9328,
     "status": "ok",
     "timestamp": 1730860725447,
     "user": {
      "displayName": "천국",
      "userId": "14827418028065544275"
     },
     "user_tz": -540
    },
    "id": "vU9VqMd0Qzps",
    "outputId": "bd5ee70d-a1a1-473c-ae35-cc3b1774dc71"
   },
   "outputs": [
    {
     "name": "stdout",
     "output_type": "stream",
     "text": [
      "Mounted at /content/drive\n"
     ]
    }
   ],
   "source": [
    "from google.colab import drive\n",
    "drive.mount('/content/drive')"
   ]
  },
  {
   "cell_type": "code",
   "execution_count": 8,
   "metadata": {
    "colab": {
     "base_uri": "https://localhost:8080/"
    },
    "executionInfo": {
     "elapsed": 359,
     "status": "ok",
     "timestamp": 1730862881661,
     "user": {
      "displayName": "천국",
      "userId": "14827418028065544275"
     },
     "user_tz": -540
    },
    "id": "-bQm-q3-XSfd",
    "outputId": "6e68f29b-dde2-472d-ff50-a1f4d3759c2c"
   },
   "outputs": [
    {
     "name": "stdout",
     "output_type": "stream",
     "text": [
      "-rw------- 1 root root 1647046227 Nov  5 23:45 /content/drive/MyDrive/googlenews/GoogleNews-vectors-negative300.bin.gz\n"
     ]
    }
   ],
   "source": [
    "# 파일 목록 확인\n",
    "!ls -l /content/drive/MyDrive/googlenews/GoogleNews-vectors-negative300.bin.gz"
   ]
  },
  {
   "cell_type": "code",
   "execution_count": 9,
   "metadata": {
    "executionInfo": {
     "elapsed": 92793,
     "status": "ok",
     "timestamp": 1730863017227,
     "user": {
      "displayName": "천국",
      "userId": "14827418028065544275"
     },
     "user_tz": -540
    },
    "id": "6hVCky3cYEyV"
   },
   "outputs": [],
   "source": [
    "#!pip install gensim\n",
    "import gensim\n",
    "\n",
    "# Google Driver에 접속하여 다운로드한 Google News의 bin.gz 파일 지정\n",
    "# 사전 학습된 모델의 벡터 불러오기\n",
    "model = gensim.models.KeyedVectors.load_word2vec_format(\n",
    "    '/content/drive/MyDrive/googlenews/GoogleNews-vectors-negative300.bin.gz',\n",
    "    binary=True )\n",
    "\n",
    "# 단어들마다 앞뒤로 윈도우 사이즈에 맞게 정답 데이터 생성"
   ]
  },
  {
   "cell_type": "code",
   "execution_count": 10,
   "metadata": {
    "colab": {
     "base_uri": "https://localhost:8080/"
    },
    "executionInfo": {
     "elapsed": 7177,
     "status": "ok",
     "timestamp": 1730863430203,
     "user": {
      "displayName": "천국",
      "userId": "14827418028065544275"
     },
     "user_tz": -540
    },
    "id": "r6WlHP_dejUh",
    "outputId": "fa8c6898-2f6b-4a0a-8b65-24a838d9d52e"
   },
   "outputs": [
    {
     "name": "stdout",
     "output_type": "stream",
     "text": [
      "king: 0.8449392318725586\n",
      "queen: 0.7300517559051514\n",
      "monarch: 0.645466148853302\n",
      "princess: 0.6156251430511475\n",
      "crown_prince: 0.5818676352500916\n",
      "prince: 0.5777117609977722\n",
      "kings: 0.5613663792610168\n",
      "sultan: 0.5376775860786438\n",
      "Queen_Consort: 0.5344247817993164\n",
      "queens: 0.5289887189865112\n"
     ]
    }
   ],
   "source": [
    "# 단어 벡터의 계산\n",
    "king_vec = model['king']\n",
    "man_vec = model['man']\n",
    "woman_vec = model['woman']\n",
    "queen_vec = king_vec - man_vec + woman_vec\n",
    "\n",
    "# 유사 단어 확인\n",
    "similar_words = model.most_similar([queen_vec], topn=10)\n",
    "for word, similarity in similar_words:\n",
    "    print(f\"{word}: {similarity}\")"
   ]
  },
  {
   "cell_type": "code",
   "execution_count": 11,
   "metadata": {
    "colab": {
     "base_uri": "https://localhost:8080/"
    },
    "executionInfo": {
     "elapsed": 333,
     "status": "ok",
     "timestamp": 1730864122795,
     "user": {
      "displayName": "천국",
      "userId": "14827418028065544275"
     },
     "user_tz": -540
    },
    "id": "OaPKfIhOg51G",
    "outputId": "8a86e4a1-9f86-484a-f0d5-6994766a7930"
   },
   "outputs": [
    {
     "name": "stdout",
     "output_type": "stream",
     "text": [
      "pen pineapple 0.06774566\n",
      "pen banana 0.05356275\n",
      "pineapple banana 0.6587538\n"
     ]
    }
   ],
   "source": [
    "from itertools import combinations\n",
    "\n",
    "# 주어진 과일 목록\n",
    "fruits = [\"pen\", \"pineapple\", \"banana\"]\n",
    "\n",
    "# 2가지 과일 조합 생성\n",
    "combinations_of_fruits = combinations(fruits, 2)\n",
    "\n",
    "# 조합내 단어 유사도 출력\n",
    "for combination in combinations_of_fruits:\n",
    "    similarity = model.similarity(combination[0], combination[1])\n",
    "    print(combination[0], combination[1], similarity)"
   ]
  },
  {
   "cell_type": "code",
   "execution_count": null,
   "metadata": {
    "id": "rlQVICPLg575"
   },
   "outputs": [],
   "source": []
  }
 ],
 "metadata": {
  "colab": {
   "authorship_tag": "ABX9TyNaKFOUDzR4WwjEJocchdUa",
   "provenance": []
  },
  "kernelspec": {
   "display_name": "Python 3 (ipykernel)",
   "language": "python",
   "name": "python3"
  },
  "language_info": {
   "codemirror_mode": {
    "name": "ipython",
    "version": 3
   },
   "file_extension": ".py",
   "mimetype": "text/x-python",
   "name": "python",
   "nbconvert_exporter": "python",
   "pygments_lexer": "ipython3",
   "version": "3.8.19"
  }
 },
 "nbformat": 4,
 "nbformat_minor": 1
}
