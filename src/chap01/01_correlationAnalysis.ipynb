{
 "cells": [
  {
   "cell_type": "markdown",
   "id": "c5e8e134",
   "metadata": {},
   "source": [
    "# 상관관계 분석 (Correlation Analysis)\n",
    "\n",
    "<hr>"
   ]
  },
  {
   "cell_type": "markdown",
   "id": "c7dc6668",
   "metadata": {},
   "source": [
    "## ✅상관관계 분석과 상관계수\n",
    "- 두 변수 사이 관계의 강도와 방향을 파악하는 통계 기법\n",
    "- 상관관계를 수치로 나타내어 정량화하는 방법\n",
    "- 상관관계의 강도를 나타낸 수치: **상관계수(Correlation coefficient)**\n",
    "- 변수 x와 y가 있을 때 두 변수의 상관관계는 다음 세 가지 중 하나\n",
    "    - 양의 상관관계: 변수 x가 커질수록 변수 y도 커짐\n",
    "    - 음의 상관관계: 변수 x가 커질수록 변수 y는 작아짐\n",
    "    - 상관관계 없음: 변수 x가 커질 때 변수 y는 커질 수도, 작아질 수도 있음\n",
    "  ![Corr1](img/Corr1.png)\n",
    "- 두 변수를 x축과 y축으로 하여 나타낸 그래프\n",
    "![Corr2](img/Corr2.png)"
   ]
  },
  {
   "cell_type": "markdown",
   "id": "ba4c6ac2",
   "metadata": {},
   "source": [
    "## ✅상관관계 분석의 세 가지 방법\n",
    "1. 피어슨 상관분석(Pearson Correlation Analysis)\n",
    "    - 가장 일반적인 상관분석 방법\n",
    "2. 스피어만 상관분석(Spearman Correlation Analysis)\n",
    "    - 두 변수가 정규성(normality)을 보이지 않을 때 사용하는 방법\n",
    "3. 켄달 상관분석(Kendall Correlation Anaylsis)\n",
    "    - 표본 데이터가 적고 동점이 많을 때 사용하기 적합한 방법\n",
    "\n",
    "<br>\n",
    "\n",
    "***참고**: 상관계수만 가지고 두 변수 사이의 상관성이 있는 지 없는 지는 판단할 수 없음. 두 변수에 선형 상관관계가 아닌 다른 상관관계가 있을 수 있음*\n",
    "\n",
    "<hr>"
   ]
  },
  {
   "cell_type": "markdown",
   "id": "f3312dbf",
   "metadata": {},
   "source": [
    "## ✅상관분석의 세 가지 방법 실습\n",
    "\n",
    "#### *: 어린이가 영어 동요에 노출된 시간과 영어 점수와의 상관관계 분석*"
   ]
  },
  {
   "cell_type": "code",
   "execution_count": 2,
   "id": "768e4cd2",
   "metadata": {},
   "outputs": [],
   "source": [
    "import pandas as pd\n",
    "import seaborn as sns\n",
    "import matplotlib.pyplot as plt"
   ]
  },
  {
   "cell_type": "code",
   "execution_count": 3,
   "id": "78269d71",
   "metadata": {},
   "outputs": [],
   "source": [
    "# 영어 동요 노출 시간\n",
    "engListening = [30, 60, 90]\n",
    "# 영어 점수\n",
    "engScore = [70, 80, 90]"
   ]
  },
  {
   "cell_type": "code",
   "execution_count": 4,
   "id": "d7ccf831",
   "metadata": {},
   "outputs": [
    {
     "data": {
      "text/html": [
       "<div>\n",
       "<style scoped>\n",
       "    .dataframe tbody tr th:only-of-type {\n",
       "        vertical-align: middle;\n",
       "    }\n",
       "\n",
       "    .dataframe tbody tr th {\n",
       "        vertical-align: top;\n",
       "    }\n",
       "\n",
       "    .dataframe thead th {\n",
       "        text-align: right;\n",
       "    }\n",
       "</style>\n",
       "<table border=\"1\" class=\"dataframe\">\n",
       "  <thead>\n",
       "    <tr style=\"text-align: right;\">\n",
       "      <th></th>\n",
       "      <th>engListening</th>\n",
       "      <th>engScore</th>\n",
       "    </tr>\n",
       "  </thead>\n",
       "  <tbody>\n",
       "    <tr>\n",
       "      <th>0</th>\n",
       "      <td>30</td>\n",
       "      <td>70</td>\n",
       "    </tr>\n",
       "    <tr>\n",
       "      <th>1</th>\n",
       "      <td>60</td>\n",
       "      <td>80</td>\n",
       "    </tr>\n",
       "    <tr>\n",
       "      <th>2</th>\n",
       "      <td>90</td>\n",
       "      <td>90</td>\n",
       "    </tr>\n",
       "  </tbody>\n",
       "</table>\n",
       "</div>"
      ],
      "text/plain": [
       "   engListening  engScore\n",
       "0            30        70\n",
       "1            60        80\n",
       "2            90        90"
      ]
     },
     "execution_count": 4,
     "metadata": {},
     "output_type": "execute_result"
    }
   ],
   "source": [
    "# 리스트를 데이터프레임으로 변환\n",
    "data = {'engListening':engListening, 'engScore':engScore}\n",
    "df = pd.DataFrame(data)\n",
    "df"
   ]
  },
  {
   "cell_type": "code",
   "execution_count": 5,
   "id": "10904f57",
   "metadata": {},
   "outputs": [
    {
     "data": {
      "text/html": [
       "<div>\n",
       "<style scoped>\n",
       "    .dataframe tbody tr th:only-of-type {\n",
       "        vertical-align: middle;\n",
       "    }\n",
       "\n",
       "    .dataframe tbody tr th {\n",
       "        vertical-align: top;\n",
       "    }\n",
       "\n",
       "    .dataframe thead th {\n",
       "        text-align: right;\n",
       "    }\n",
       "</style>\n",
       "<table border=\"1\" class=\"dataframe\">\n",
       "  <thead>\n",
       "    <tr style=\"text-align: right;\">\n",
       "      <th></th>\n",
       "      <th>engListening</th>\n",
       "      <th>engScore</th>\n",
       "    </tr>\n",
       "  </thead>\n",
       "  <tbody>\n",
       "    <tr>\n",
       "      <th>engListening</th>\n",
       "      <td>1.0</td>\n",
       "      <td>1.0</td>\n",
       "    </tr>\n",
       "    <tr>\n",
       "      <th>engScore</th>\n",
       "      <td>1.0</td>\n",
       "      <td>1.0</td>\n",
       "    </tr>\n",
       "  </tbody>\n",
       "</table>\n",
       "</div>"
      ],
      "text/plain": [
       "              engListening  engScore\n",
       "engListening           1.0       1.0\n",
       "engScore               1.0       1.0"
      ]
     },
     "execution_count": 5,
     "metadata": {},
     "output_type": "execute_result"
    }
   ],
   "source": [
    "# 상관분석 수행\n",
    "df.corr(method='pearson')"
   ]
  },
  {
   "cell_type": "code",
   "execution_count": 6,
   "id": "491ec849",
   "metadata": {},
   "outputs": [
    {
     "data": {
      "text/plain": [
       "(   engListening  engScore\n",
       " 0            31        70\n",
       " 1            32        71\n",
       " 2            69        85\n",
       " 3            92        90\n",
       " 4            99        92,\n",
       "    engReading  engClass\n",
       " 0          40        60\n",
       " 1          45       120\n",
       " 2          60       120\n",
       " 3          20        60\n",
       " 4          15        60\n",
       " 5          70       180\n",
       " 6          60       120\n",
       " 7          80       120)"
      ]
     },
     "execution_count": 6,
     "metadata": {},
     "output_type": "execute_result"
    }
   ],
   "source": [
    "# 5명의 어린이 데이터 추가\n",
    "engReading = [40, 45, 60, 20, 15, 70, 60, 80]\n",
    "engClass = [60, 120, 120, 60, 60, 180, 120, 120]\n",
    "\n",
    "new_data = pd.DataFrame({'engListening' : [31, 32, 69, 92, 99],\n",
    "                        'engScore' : [70, 71, 85, 90, 92]})\n",
    "new_col = pd.DataFrame({'engReading' : engReading,\n",
    "                        'engClass' : engClass})\n",
    "new_data, new_col"
   ]
  },
  {
   "cell_type": "code",
   "execution_count": 7,
   "id": "4c9cedd8",
   "metadata": {},
   "outputs": [
    {
     "data": {
      "text/html": [
       "<div>\n",
       "<style scoped>\n",
       "    .dataframe tbody tr th:only-of-type {\n",
       "        vertical-align: middle;\n",
       "    }\n",
       "\n",
       "    .dataframe tbody tr th {\n",
       "        vertical-align: top;\n",
       "    }\n",
       "\n",
       "    .dataframe thead th {\n",
       "        text-align: right;\n",
       "    }\n",
       "</style>\n",
       "<table border=\"1\" class=\"dataframe\">\n",
       "  <thead>\n",
       "    <tr style=\"text-align: right;\">\n",
       "      <th></th>\n",
       "      <th>engListening</th>\n",
       "      <th>engScore</th>\n",
       "    </tr>\n",
       "  </thead>\n",
       "  <tbody>\n",
       "    <tr>\n",
       "      <th>0</th>\n",
       "      <td>30</td>\n",
       "      <td>70</td>\n",
       "    </tr>\n",
       "    <tr>\n",
       "      <th>1</th>\n",
       "      <td>60</td>\n",
       "      <td>80</td>\n",
       "    </tr>\n",
       "    <tr>\n",
       "      <th>2</th>\n",
       "      <td>90</td>\n",
       "      <td>90</td>\n",
       "    </tr>\n",
       "    <tr>\n",
       "      <th>3</th>\n",
       "      <td>31</td>\n",
       "      <td>70</td>\n",
       "    </tr>\n",
       "    <tr>\n",
       "      <th>4</th>\n",
       "      <td>32</td>\n",
       "      <td>71</td>\n",
       "    </tr>\n",
       "    <tr>\n",
       "      <th>5</th>\n",
       "      <td>69</td>\n",
       "      <td>85</td>\n",
       "    </tr>\n",
       "    <tr>\n",
       "      <th>6</th>\n",
       "      <td>92</td>\n",
       "      <td>90</td>\n",
       "    </tr>\n",
       "    <tr>\n",
       "      <th>7</th>\n",
       "      <td>99</td>\n",
       "      <td>92</td>\n",
       "    </tr>\n",
       "  </tbody>\n",
       "</table>\n",
       "</div>"
      ],
      "text/plain": [
       "   engListening  engScore\n",
       "0            30        70\n",
       "1            60        80\n",
       "2            90        90\n",
       "3            31        70\n",
       "4            32        71\n",
       "5            69        85\n",
       "6            92        90\n",
       "7            99        92"
      ]
     },
     "execution_count": 7,
     "metadata": {},
     "output_type": "execute_result"
    }
   ],
   "source": [
    "new_df = pd.concat([df, new_data], ignore_index = True)\n",
    "new_df"
   ]
  },
  {
   "cell_type": "code",
   "execution_count": 8,
   "id": "36ad3177",
   "metadata": {},
   "outputs": [
    {
     "data": {
      "text/html": [
       "<div>\n",
       "<style scoped>\n",
       "    .dataframe tbody tr th:only-of-type {\n",
       "        vertical-align: middle;\n",
       "    }\n",
       "\n",
       "    .dataframe tbody tr th {\n",
       "        vertical-align: top;\n",
       "    }\n",
       "\n",
       "    .dataframe thead th {\n",
       "        text-align: right;\n",
       "    }\n",
       "</style>\n",
       "<table border=\"1\" class=\"dataframe\">\n",
       "  <thead>\n",
       "    <tr style=\"text-align: right;\">\n",
       "      <th></th>\n",
       "      <th>engListening</th>\n",
       "      <th>engScore</th>\n",
       "      <th>engReading</th>\n",
       "      <th>engClass</th>\n",
       "    </tr>\n",
       "  </thead>\n",
       "  <tbody>\n",
       "    <tr>\n",
       "      <th>0</th>\n",
       "      <td>30</td>\n",
       "      <td>70</td>\n",
       "      <td>40</td>\n",
       "      <td>60</td>\n",
       "    </tr>\n",
       "    <tr>\n",
       "      <th>1</th>\n",
       "      <td>60</td>\n",
       "      <td>80</td>\n",
       "      <td>45</td>\n",
       "      <td>120</td>\n",
       "    </tr>\n",
       "    <tr>\n",
       "      <th>2</th>\n",
       "      <td>90</td>\n",
       "      <td>90</td>\n",
       "      <td>60</td>\n",
       "      <td>120</td>\n",
       "    </tr>\n",
       "    <tr>\n",
       "      <th>3</th>\n",
       "      <td>31</td>\n",
       "      <td>70</td>\n",
       "      <td>20</td>\n",
       "      <td>60</td>\n",
       "    </tr>\n",
       "    <tr>\n",
       "      <th>4</th>\n",
       "      <td>32</td>\n",
       "      <td>71</td>\n",
       "      <td>15</td>\n",
       "      <td>60</td>\n",
       "    </tr>\n",
       "    <tr>\n",
       "      <th>5</th>\n",
       "      <td>69</td>\n",
       "      <td>85</td>\n",
       "      <td>70</td>\n",
       "      <td>180</td>\n",
       "    </tr>\n",
       "    <tr>\n",
       "      <th>6</th>\n",
       "      <td>92</td>\n",
       "      <td>90</td>\n",
       "      <td>60</td>\n",
       "      <td>120</td>\n",
       "    </tr>\n",
       "    <tr>\n",
       "      <th>7</th>\n",
       "      <td>99</td>\n",
       "      <td>92</td>\n",
       "      <td>80</td>\n",
       "      <td>120</td>\n",
       "    </tr>\n",
       "  </tbody>\n",
       "</table>\n",
       "</div>"
      ],
      "text/plain": [
       "   engListening  engScore  engReading  engClass\n",
       "0            30        70          40        60\n",
       "1            60        80          45       120\n",
       "2            90        90          60       120\n",
       "3            31        70          20        60\n",
       "4            32        71          15        60\n",
       "5            69        85          70       180\n",
       "6            92        90          60       120\n",
       "7            99        92          80       120"
      ]
     },
     "execution_count": 8,
     "metadata": {},
     "output_type": "execute_result"
    }
   ],
   "source": [
    "new_df = pd.concat([new_df, new_col], axis=1)\n",
    "new_df"
   ]
  },
  {
   "cell_type": "code",
   "execution_count": 9,
   "id": "114f6907",
   "metadata": {},
   "outputs": [
    {
     "data": {
      "text/plain": [
       "<AxesSubplot: xlabel='engListening', ylabel='engScore'>"
      ]
     },
     "execution_count": 9,
     "metadata": {},
     "output_type": "execute_result"
    },
    {
     "data": {
      "image/png": "[encoded data removed]",
      "text/plain": [
       "<Figure size 640x480 with 1 Axes>"
      ]
     },
     "metadata": {},
     "output_type": "display_data"
    }
   ],
   "source": [
    "# 그래프로 확인\n",
    "sns.scatterplot(data=new_df, x='engListening', y='engScore')"
   ]
  },
  {
   "cell_type": "code",
   "execution_count": 10,
   "id": "e0011e6d",
   "metadata": {},
   "outputs": [
    {
     "data": {
      "text/html": [
       "<div>\n",
       "<style scoped>\n",
       "    .dataframe tbody tr th:only-of-type {\n",
       "        vertical-align: middle;\n",
       "    }\n",
       "\n",
       "    .dataframe tbody tr th {\n",
       "        vertical-align: top;\n",
       "    }\n",
       "\n",
       "    .dataframe thead th {\n",
       "        text-align: right;\n",
       "    }\n",
       "</style>\n",
       "<table border=\"1\" class=\"dataframe\">\n",
       "  <thead>\n",
       "    <tr style=\"text-align: right;\">\n",
       "      <th></th>\n",
       "      <th>engListening</th>\n",
       "      <th>engScore</th>\n",
       "      <th>engReading</th>\n",
       "      <th>engClass</th>\n",
       "    </tr>\n",
       "  </thead>\n",
       "  <tbody>\n",
       "    <tr>\n",
       "      <th>engListening</th>\n",
       "      <td>1.000000</td>\n",
       "      <td>0.995829</td>\n",
       "      <td>0.877201</td>\n",
       "      <td>0.703028</td>\n",
       "    </tr>\n",
       "    <tr>\n",
       "      <th>engScore</th>\n",
       "      <td>0.995829</td>\n",
       "      <td>1.000000</td>\n",
       "      <td>0.894111</td>\n",
       "      <td>0.759453</td>\n",
       "    </tr>\n",
       "    <tr>\n",
       "      <th>engReading</th>\n",
       "      <td>0.877201</td>\n",
       "      <td>0.894111</td>\n",
       "      <td>1.000000</td>\n",
       "      <td>0.808755</td>\n",
       "    </tr>\n",
       "    <tr>\n",
       "      <th>engClass</th>\n",
       "      <td>0.703028</td>\n",
       "      <td>0.759453</td>\n",
       "      <td>0.808755</td>\n",
       "      <td>1.000000</td>\n",
       "    </tr>\n",
       "  </tbody>\n",
       "</table>\n",
       "</div>"
      ],
      "text/plain": [
       "              engListening  engScore  engReading  engClass\n",
       "engListening      1.000000  0.995829    0.877201  0.703028\n",
       "engScore          0.995829  1.000000    0.894111  0.759453\n",
       "engReading        0.877201  0.894111    1.000000  0.808755\n",
       "engClass          0.703028  0.759453    0.808755  1.000000"
      ]
     },
     "execution_count": 10,
     "metadata": {},
     "output_type": "execute_result"
    }
   ],
   "source": [
    "# 1) 피어슨 상관분석 수행\n",
    "pearson_coef = new_df.corr(method='pearson')\n",
    "pearson_coef"
   ]
  },
  {
   "cell_type": "code",
   "execution_count": 11,
   "id": "93c3e1b5",
   "metadata": {},
   "outputs": [
    {
     "data": {
      "text/html": [
       "<div>\n",
       "<style scoped>\n",
       "    .dataframe tbody tr th:only-of-type {\n",
       "        vertical-align: middle;\n",
       "    }\n",
       "\n",
       "    .dataframe tbody tr th {\n",
       "        vertical-align: top;\n",
       "    }\n",
       "\n",
       "    .dataframe thead th {\n",
       "        text-align: right;\n",
       "    }\n",
       "</style>\n",
       "<table border=\"1\" class=\"dataframe\">\n",
       "  <thead>\n",
       "    <tr style=\"text-align: right;\">\n",
       "      <th></th>\n",
       "      <th>engListening</th>\n",
       "      <th>engScore</th>\n",
       "      <th>engReading</th>\n",
       "      <th>engClass</th>\n",
       "    </tr>\n",
       "  </thead>\n",
       "  <tbody>\n",
       "    <tr>\n",
       "      <th>engListening</th>\n",
       "      <td>1.000000</td>\n",
       "      <td>0.988024</td>\n",
       "      <td>0.826362</td>\n",
       "      <td>0.717256</td>\n",
       "    </tr>\n",
       "    <tr>\n",
       "      <th>engScore</th>\n",
       "      <td>0.988024</td>\n",
       "      <td>1.000000</td>\n",
       "      <td>0.848500</td>\n",
       "      <td>0.725950</td>\n",
       "    </tr>\n",
       "    <tr>\n",
       "      <th>engReading</th>\n",
       "      <td>0.826362</td>\n",
       "      <td>0.848500</td>\n",
       "      <td>1.000000</td>\n",
       "      <td>0.852757</td>\n",
       "    </tr>\n",
       "    <tr>\n",
       "      <th>engClass</th>\n",
       "      <td>0.717256</td>\n",
       "      <td>0.725950</td>\n",
       "      <td>0.852757</td>\n",
       "      <td>1.000000</td>\n",
       "    </tr>\n",
       "  </tbody>\n",
       "</table>\n",
       "</div>"
      ],
      "text/plain": [
       "              engListening  engScore  engReading  engClass\n",
       "engListening      1.000000  0.988024    0.826362  0.717256\n",
       "engScore          0.988024  1.000000    0.848500  0.725950\n",
       "engReading        0.826362  0.848500    1.000000  0.852757\n",
       "engClass          0.717256  0.725950    0.852757  1.000000"
      ]
     },
     "execution_count": 11,
     "metadata": {},
     "output_type": "execute_result"
    }
   ],
   "source": [
    "# 2) 스피어만 상관분석 수행\n",
    "spearman_coef = new_df.corr(method='spearman')\n",
    "spearman_coef"
   ]
  },
  {
   "cell_type": "code",
   "execution_count": 12,
   "id": "31ebf04f",
   "metadata": {},
   "outputs": [
    {
     "data": {
      "text/html": [
       "<div>\n",
       "<style scoped>\n",
       "    .dataframe tbody tr th:only-of-type {\n",
       "        vertical-align: middle;\n",
       "    }\n",
       "\n",
       "    .dataframe tbody tr th {\n",
       "        vertical-align: top;\n",
       "    }\n",
       "\n",
       "    .dataframe thead th {\n",
       "        text-align: right;\n",
       "    }\n",
       "</style>\n",
       "<table border=\"1\" class=\"dataframe\">\n",
       "  <thead>\n",
       "    <tr style=\"text-align: right;\">\n",
       "      <th></th>\n",
       "      <th>engListening</th>\n",
       "      <th>engScore</th>\n",
       "      <th>engReading</th>\n",
       "      <th>engClass</th>\n",
       "    </tr>\n",
       "  </thead>\n",
       "  <tbody>\n",
       "    <tr>\n",
       "      <th>engListening</th>\n",
       "      <td>1.000000</td>\n",
       "      <td>0.963624</td>\n",
       "      <td>0.618284</td>\n",
       "      <td>0.563621</td>\n",
       "    </tr>\n",
       "    <tr>\n",
       "      <th>engScore</th>\n",
       "      <td>0.963624</td>\n",
       "      <td>1.000000</td>\n",
       "      <td>0.679366</td>\n",
       "      <td>0.584898</td>\n",
       "    </tr>\n",
       "    <tr>\n",
       "      <th>engReading</th>\n",
       "      <td>0.618284</td>\n",
       "      <td>0.679366</td>\n",
       "      <td>1.000000</td>\n",
       "      <td>0.750568</td>\n",
       "    </tr>\n",
       "    <tr>\n",
       "      <th>engClass</th>\n",
       "      <td>0.563621</td>\n",
       "      <td>0.584898</td>\n",
       "      <td>0.750568</td>\n",
       "      <td>1.000000</td>\n",
       "    </tr>\n",
       "  </tbody>\n",
       "</table>\n",
       "</div>"
      ],
      "text/plain": [
       "              engListening  engScore  engReading  engClass\n",
       "engListening      1.000000  0.963624    0.618284  0.563621\n",
       "engScore          0.963624  1.000000    0.679366  0.584898\n",
       "engReading        0.618284  0.679366    1.000000  0.750568\n",
       "engClass          0.563621  0.584898    0.750568  1.000000"
      ]
     },
     "execution_count": 12,
     "metadata": {},
     "output_type": "execute_result"
    }
   ],
   "source": [
    "# 3) 켄달 상관분석 수행\n",
    "kendall_coef = new_df.corr(method='kendall')\n",
    "kendall_coef"
   ]
  },
  {
   "cell_type": "markdown",
   "id": "0d883b58",
   "metadata": {},
   "source": [
    "<hr>\n",
    "\n",
    "## ✅피어슨 상관분석과 스피어만 상관분석의 차이점\n",
    "- 피어슨 상관분석은 두 연속 변수 간의 선형 관계를 측정하는 반면, 스피어만 상관분석은 선형인지 여부에 관계 없이 변수 간의 단조 연관성(Monotonic relationship)을 측정\n",
    "    - ![Corr3](img/Corr3.png)\n",
    "- 피어슨 상관관계가 스피어만 상관관계보다 데이터의 이상치(Outlier)에 민감하게 반응"
   ]
  },
  {
   "cell_type": "markdown",
   "id": "083bd5a0",
   "metadata": {},
   "source": [
    "<hr>\n",
    "\n",
    "## ✅켄달 상관분석의 특징\n",
    "- 켄달 상관분석은 두 변수 간의 순위를 비교하여 연관성을 계산\n",
    "- 한 변수가 증가할 때 다른 변수가 함께 증가하는 횟수와 감소하는 횟수를 측정하여 횟수의 차이를 상관계수로 표현하는 방법\n",
    "- **순위로 표현**할 수 있는 데이터이거나, **표본 크키가 작거나**, 데이터의 **순위에 동률이 많을 때** 사용"
   ]
  },
  {
   "cell_type": "code",
   "execution_count": null,
   "id": "73ea44fb",
   "metadata": {},
   "outputs": [],
   "source": []
  }
 ],
 "metadata": {
  "kernelspec": {
   "display_name": "Python 3 (ipykernel)",
   "language": "python",
   "name": "python3"
  },
  "language_info": {
   "codemirror_mode": {
    "name": "ipython",
    "version": 3
   },
   "file_extension": ".py",
   "mimetype": "text/x-python",
   "name": "python",
   "nbconvert_exporter": "python",
   "pygments_lexer": "ipython3",
   "version": "3.8.19"
  }
 },
 "nbformat": 4,
 "nbformat_minor": 5
}
