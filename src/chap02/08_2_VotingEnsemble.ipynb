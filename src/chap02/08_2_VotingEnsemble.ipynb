{
 "cells": [
  {
   "cell_type": "markdown",
   "metadata": {},
   "source": [
    "# 08-02. Voting Ensemble\n",
    "##### *단일 모델을 앙상블하여 더 나은 예측을 하는 앙상블 모델 만들기*"
   ]
  },
  {
   "cell_type": "code",
   "execution_count": 1,
   "metadata": {},
   "outputs": [],
   "source": [
    "import numpy as np\n",
    "import pandas as pd\n",
    "import matplotlib.pyplot as plt\n",
    "import seaborn as sns\n",
    "\n",
    "from sklearn import datasets\n",
    "\n",
    "from sklearn.neighbors import KNeighborsClassifier    # 랜덤포레스트\n",
    "from sklearn.tree import DecisionTreeClassifier       # 의사결정트리\n",
    "from sklearn.svm import SVC                           # 서포트벡터머신\n",
    "from sklearn.ensemble import VotingClassifier         # 배깅\n",
    "\n",
    "from sklearn.model_selection import train_test_split  # 데이터분할\n",
    "from sklearn.metrics import accuracy_score            # 정확도 확인 "
   ]
  },
  {
   "cell_type": "markdown",
   "metadata": {},
   "source": [
    "<hr>\n",
    "\n",
    "## 01. 데이터셋 가져오기"
   ]
  },
  {
   "cell_type": "code",
   "execution_count": 2,
   "metadata": {},
   "outputs": [
    {
     "name": "stdout",
     "output_type": "stream",
     "text": [
      "DV :\n",
      " [[ 0.  0.  5. ...  0.  0.  0.]\n",
      " [ 0.  0.  0. ... 10.  0.  0.]\n",
      " [ 0.  0.  0. ... 16.  9.  0.]\n",
      " ...\n",
      " [ 0.  0.  1. ...  6.  0.  0.]\n",
      " [ 0.  0.  2. ... 12.  0.  0.]\n",
      " [ 0.  0. 10. ... 12.  1.  0.]]\n",
      "\n",
      "IV : [0 1 2 ... 8 9 8]\n"
     ]
    }
   ],
   "source": [
    "mnist = datasets.load_digits()\n",
    "features, labels = mnist.data, mnist.target\n",
    "\n",
    "print('DV :\\n', features)\n",
    "print('\\nIV :', labels)"
   ]
  },
  {
   "cell_type": "code",
   "execution_count": 3,
   "metadata": {},
   "outputs": [
    {
     "name": "stdout",
     "output_type": "stream",
     "text": [
      "X_train size: (1437, 64)\n",
      "X_test size: (360, 64)\n",
      "y_train size: (1437,)\n",
      "y_test size: (360,)\n"
     ]
    }
   ],
   "source": [
    "# 데이터셋 분리\n",
    "X_train, X_test, y_train, y_test = train_test_split(features,\n",
    "                                                    labels,\n",
    "                                                    test_size=0.2) # 8:2\n",
    "print(\"X_train size:\", X_train.shape)\n",
    "print(\"X_test size:\", X_test.shape)\n",
    "print(\"y_train size:\", y_train.shape)\n",
    "print(\"y_test size:\", y_test.shape)"
   ]
  },
  {
   "cell_type": "markdown",
   "metadata": {},
   "source": [
    "<hr>\n",
    "\n",
    "## 02. 단일 모델 정확도 측정\n",
    "##### *의사결정트리, KNN, SVM 모델의 정확도를 측정*"
   ]
  },
  {
   "cell_type": "code",
   "execution_count": 4,
   "metadata": {},
   "outputs": [],
   "source": [
    "# 1) 의사결정트리\n",
    "dtree = DecisionTreeClassifier(criterion='gini',    # 지니계수를 이용한 객체 생성\n",
    "                               max_depth=8,         # overfitting을 줄이기 위한 매개변수 설정\n",
    "                               max_features=32,\n",
    "                               random_state=35).fit(X_train, y_train)\n",
    "\n",
    "# test 데이터에 대한 예측값을 변수에 저장\n",
    "dtree_predict = dtree.predict(X_test)"
   ]
  },
  {
   "cell_type": "code",
   "execution_count": 5,
   "metadata": {},
   "outputs": [],
   "source": [
    "# 2) KNN\n",
    "knn = KNeighborsClassifier(n_neighbors=299,   # 최적의 k값 (찾는거 생략하고 바로 매개변수로 넣음)\n",
    "                           ).fit(X_train, y_train) \n",
    "\n",
    "# test 데이터에 대한 예측값을 변수에 저장\n",
    "knn_predict = knn.predict(X_test)"
   ]
  },
  {
   "cell_type": "code",
   "execution_count": 6,
   "metadata": {},
   "outputs": [],
   "source": [
    "# 3) SVM (C=0.1, gamma=0.003 >> 최적의 매개변수, GridSearchCV 과정 생략)\n",
    "svm = SVC(C=0.1, gamma=0.003,\n",
    "          probability=True,       # 확률을 예측할 수 있는 모델 생성. predict_proba() 메서드를 실행하기 위함.\n",
    "          random_state=35).fit(X_train, y_train)\n",
    "\n",
    "# svm_predict_proba = svm.predict_proba(X_test) \n",
    "# 각 클래스에 속한 확률값으로 반환 >> 회귀모델에는 사용할 수 없고, 분류모델에서 활용됨\n",
    "\n",
    "svm_predict = svm.predict(X_test)"
   ]
  },
  {
   "cell_type": "code",
   "execution_count": 7,
   "metadata": {},
   "outputs": [
    {
     "name": "stdout",
     "output_type": "stream",
     "text": [
      "[accuracy]\n",
      "\n",
      "의사결정트리: 0.831,\n",
      "         KNN: 0.861,\n",
      "         SVM: 0.925      \n",
      "\n"
     ]
    }
   ],
   "source": [
    "print(f\"\"\"[accuracy]\\n\n",
    "의사결정트리: {round(accuracy_score(y_test, dtree_predict), 3)},\n",
    "         KNN: {round(accuracy_score(y_test, knn_predict), 3)},\n",
    "         SVM: {round(accuracy_score(y_test, svm_predict), 3)}      \n",
    "\"\"\")"
   ]
  },
  {
   "cell_type": "markdown",
   "metadata": {},
   "source": [
    "##### *소프트 보팅 또는 하드 보팅은 sklearn의 voting classifier를 사용하여 쉽게 구현 가능*"
   ]
  },
  {
   "cell_type": "code",
   "execution_count": 8,
   "metadata": {},
   "outputs": [
    {
     "data": {
      "text/plain": [
       "array([[0.00301521, 0.01539632, 0.83798147, 0.00697977, 0.00718525,\n",
       "        0.01099738, 0.00365586, 0.00708201, 0.09394806, 0.01375866],\n",
       "       [0.0037367 , 0.01118552, 0.00764305, 0.00475032, 0.9008824 ,\n",
       "        0.01114448, 0.00428801, 0.00851048, 0.03832171, 0.00953733]])"
      ]
     },
     "execution_count": 8,
     "metadata": {},
     "output_type": "execute_result"
    }
   ],
   "source": [
    "# predict_proba(): 확률의 값으로 계산한 결과를 반환하는 메서드\n",
    "svm_proba = svm.predict_proba(X_test)\n",
    "\n",
    "# 2개의 값만 우선 확인\n",
    "svm_proba[:2]\n",
    "\n",
    "# 다른 모델들도 `predict_proba()` 함수로 확률값을 확인할 수 있음"
   ]
  },
  {
   "cell_type": "markdown",
   "metadata": {},
   "source": [
    "<hr>\n",
    "\n",
    "## 03. 하드 보팅\n",
    "##### *하드 보팅은 일반적인 투표와 같이 각 분류기의 예측값들을 모아, 가장 많은 득표를 받은 예측값으로 최종 결론을 내는 방식*"
   ]
  },
  {
   "cell_type": "code",
   "execution_count": 9,
   "metadata": {},
   "outputs": [],
   "source": [
    "voting_clf  = VotingClassifier(estimators=[('knn', knn),    # (모델 이름, 해당 모델의 변수명) \n",
    "                                           ('svm', svm),\n",
    "                                           ('decisionTree', dtree)],\n",
    "                               weights=[1, 1, 1],           # 가중치는 모두 동일하게 설정 (하드보팅에서는 가중치의 의미가 없음, 득표수로 계산하기 때문)\n",
    "                               voting='hard'                # 하드보팅 설정\n",
    "                              ).fit(X_train, y_train)\n",
    "\n",
    "hard_predict = voting_clf.predict(X_test)"
   ]
  },
  {
   "cell_type": "code",
   "execution_count": 10,
   "metadata": {},
   "outputs": [
    {
     "data": {
      "text/plain": [
       "0.9333333333333333"
      ]
     },
     "execution_count": 10,
     "metadata": {},
     "output_type": "execute_result"
    }
   ],
   "source": [
    "accuracy_score(y_test, hard_predict)"
   ]
  },
  {
   "cell_type": "markdown",
   "metadata": {},
   "source": [
    "<hr>\n",
    "\n",
    "## 04. 소프트 보팅\n",
    "##### *모든 분류값의 확률을 더해 최대 점수를 가진 분류값을 결론으로 도출*"
   ]
  },
  {
   "cell_type": "code",
   "execution_count": 11,
   "metadata": {},
   "outputs": [],
   "source": [
    "voting_clf  = VotingClassifier(estimators=[('knn', knn),    # (모델 이름, 해당 모델의 변수명) \n",
    "                                           ('svm', svm),\n",
    "                                           ('decisionTree', dtree)],\n",
    "                               weights=[1, 1, 1],\n",
    "                               voting='soft'                # 소프트 설정\n",
    "                              ).fit(X_train, y_train)\n",
    "\n",
    "soft_predict = voting_clf.predict(X_test)"
   ]
  },
  {
   "cell_type": "code",
   "execution_count": 12,
   "metadata": {},
   "outputs": [
    {
     "data": {
      "text/plain": [
       "0.9083333333333333"
      ]
     },
     "execution_count": 12,
     "metadata": {},
     "output_type": "execute_result"
    }
   ],
   "source": [
    "accuracy_score(y_test, soft_predict)"
   ]
  },
  {
   "cell_type": "markdown",
   "metadata": {},
   "source": [
    "<hr>\n",
    "\n",
    "## 05. 정확도 비교 시각화"
   ]
  },
  {
   "cell_type": "code",
   "execution_count": 13,
   "metadata": {},
   "outputs": [
    {
     "data": {
      "text/plain": [
       "([<matplotlib.axis.XTick at 0x1e4997c1fd0>,\n",
       "  <matplotlib.axis.XTick at 0x1e4997c1fa0>,\n",
       "  <matplotlib.axis.XTick at 0x1e4997c1be0>,\n",
       "  <matplotlib.axis.XTick at 0x1e4994eaeb0>,\n",
       "  <matplotlib.axis.XTick at 0x1e4995039a0>],\n",
       " [Text(0, 0, 'decision tree'),\n",
       "  Text(1, 0, 'KNN'),\n",
       "  Text(2, 0, 'SVM'),\n",
       "  Text(3, 0, 'hard voting'),\n",
       "  Text(4, 0, 'soft voting')])"
      ]
     },
     "execution_count": 13,
     "metadata": {},
     "output_type": "execute_result"
    },
    {
     "data": {
      "image/png": "[encoded data removed]",
      "text/plain": [
       "<Figure size 640x480 with 1 Axes>"
      ]
     },
     "metadata": {},
     "output_type": "display_data"
    }
   ],
   "source": [
    "x = np.arange(5)\n",
    "plt.bar (x, height= [accuracy_score(y_test, dtree_predict),\n",
    "                     accuracy_score (y_test, knn_predict),\n",
    "                     accuracy_score (y_test, svm_predict),\n",
    "                     accuracy_score (y_test, hard_predict),\n",
    "                     accuracy_score (y_test, soft_predict) ]\n",
    "        )\n",
    "\n",
    "plt.xticks(x, ['decision tree', 'KNN', 'SVM', 'hard voting', 'soft voting'])"
   ]
  }
 ],
 "metadata": {
  "kernelspec": {
   "display_name": "Python 3 (ipykernel)",
   "language": "python",
   "name": "python3"
  },
  "language_info": {
   "codemirror_mode": {
    "name": "ipython",
    "version": 3
   },
   "file_extension": ".py",
   "mimetype": "text/x-python",
   "name": "python",
   "nbconvert_exporter": "python",
   "pygments_lexer": "ipython3",
   "version": "3.8.19"
  }
 },
 "nbformat": 4,
 "nbformat_minor": 2
}
