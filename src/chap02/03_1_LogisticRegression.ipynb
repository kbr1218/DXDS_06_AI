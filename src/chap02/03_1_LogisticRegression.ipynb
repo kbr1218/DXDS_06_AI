{
 "cells": [
  {
   "cell_type": "markdown",
   "id": "6a9dc4e3",
   "metadata": {},
   "source": [
    "# 03-1. 로지스틱 회귀분석 (Logistic Regression Analysis)\n",
    "\n",
    "<hr>\n",
    "\n",
    "## ✅로지스틱 회귀모형\n",
    "- 로지스틱 회귀분석은 결과인 종속변수에 미치는 요인들을 독립변수로 두고 각 독립변수의 영향을 설명\n",
    "- 로지스틱 회귀분석의 종속변수는 범위에 제한이 있음 **(0에서 1 사이의 값)**\n",
    "\n",
    "<br>\n",
    "\n",
    "- 선형 회귀분석은 표본 데이터를 직선으로 그룹화\n",
    "- 로지스틱 회귀분석은 표본 데이터가 0에서 1 사이의 값으로 그룹화되어 있음\n",
    "    ![logistic](img/logistic1.png)\n",
    "\n",
    "<br>\n",
    "\n",
    "- 로지스틱 회귀분석 결과 **오즈비(Odds Ratio; OR; 승산비)** 를 얻음 \n",
    "- 사건이 발생할 확률을 p라고 할 때, 오즈비를 수식으로 나타내면 다음과 같음\n",
    "    ![logistic](img/logistic2.png)\n",
    "\n",
    "<br>\n",
    "\n",
    "- e.g.대학 합격이라는 사건에서 합격을 1, 불합격을 0으로 정했을 때, 합격할 확률이 0.8이라면 오즈비는 4. 이는 대학에 합격할 확률이 불합격할 확률보다 4배 높다는 뜻  \n",
    "$$OR = \\frac{p}{1-p} = \\frac{0.8}{1-0.8}$$\n",
    "\n",
    "<br><hr>\n",
    "\n",
    "## ✅로지스틱 회귀분석의 해석\n",
    "- 로지스틱 회귀분석의 해석 과정\n",
    "    1. 선형 회귀분석과 마찬가지로 각 독립변수 p-value를 확인. p-value가 유의수준보다 작은 독립변수를 통해 통계적으로 유익한 변수라고 판단\n",
    "    2. 오즈비를 구해 각 독립변수가 종속변수를 1로 만들 확률을 비교"
   ]
  },
  {
   "cell_type": "markdown",
   "id": "dd00faca",
   "metadata": {},
   "source": [
    "<br><hr>\n",
    "\n",
    "## ✅로지스틱 회귀분석의 활용\n",
    "\n",
    "#### *사과 가격이 사과 판매 여부에 미치는 영향 분석*"
   ]
  },
  {
   "cell_type": "code",
   "execution_count": 1,
   "id": "91010ebb",
   "metadata": {},
   "outputs": [],
   "source": [
    "import statsmodels.api as sm\n",
    "import pandas as pd\n",
    "import numpy as np"
   ]
  },
  {
   "cell_type": "code",
   "execution_count": 2,
   "id": "122eae26",
   "metadata": {},
   "outputs": [],
   "source": [
    "sales = [1, 1, 1, 1, 1, 1, 1, 1, 1, 0, 0, 0, 0, 0, 0, 0, 0]\n",
    "price = [1500, 2000, 5000, 3000, 3500, 2500, 4000, 4500, 3000,\n",
    "        4500, 4000, 4500, 5500, 6500, 5000, 3500, 7000]\n",
    "data = {'sales':sales, 'price':price}"
   ]
  },
  {
   "cell_type": "code",
   "execution_count": 3,
   "id": "56709251",
   "metadata": {},
   "outputs": [
    {
     "data": {
      "text/html": [
       "<div>\n",
       "<style scoped>\n",
       "    .dataframe tbody tr th:only-of-type {\n",
       "        vertical-align: middle;\n",
       "    }\n",
       "\n",
       "    .dataframe tbody tr th {\n",
       "        vertical-align: top;\n",
       "    }\n",
       "\n",
       "    .dataframe thead th {\n",
       "        text-align: right;\n",
       "    }\n",
       "</style>\n",
       "<table border=\"1\" class=\"dataframe\">\n",
       "  <thead>\n",
       "    <tr style=\"text-align: right;\">\n",
       "      <th></th>\n",
       "      <th>sales</th>\n",
       "      <th>price</th>\n",
       "    </tr>\n",
       "  </thead>\n",
       "  <tbody>\n",
       "    <tr>\n",
       "      <th>0</th>\n",
       "      <td>1</td>\n",
       "      <td>1500</td>\n",
       "    </tr>\n",
       "    <tr>\n",
       "      <th>1</th>\n",
       "      <td>1</td>\n",
       "      <td>2000</td>\n",
       "    </tr>\n",
       "    <tr>\n",
       "      <th>2</th>\n",
       "      <td>1</td>\n",
       "      <td>5000</td>\n",
       "    </tr>\n",
       "    <tr>\n",
       "      <th>3</th>\n",
       "      <td>1</td>\n",
       "      <td>3000</td>\n",
       "    </tr>\n",
       "    <tr>\n",
       "      <th>4</th>\n",
       "      <td>1</td>\n",
       "      <td>3500</td>\n",
       "    </tr>\n",
       "    <tr>\n",
       "      <th>5</th>\n",
       "      <td>1</td>\n",
       "      <td>2500</td>\n",
       "    </tr>\n",
       "    <tr>\n",
       "      <th>6</th>\n",
       "      <td>1</td>\n",
       "      <td>4000</td>\n",
       "    </tr>\n",
       "    <tr>\n",
       "      <th>7</th>\n",
       "      <td>1</td>\n",
       "      <td>4500</td>\n",
       "    </tr>\n",
       "    <tr>\n",
       "      <th>8</th>\n",
       "      <td>1</td>\n",
       "      <td>3000</td>\n",
       "    </tr>\n",
       "    <tr>\n",
       "      <th>9</th>\n",
       "      <td>0</td>\n",
       "      <td>4500</td>\n",
       "    </tr>\n",
       "    <tr>\n",
       "      <th>10</th>\n",
       "      <td>0</td>\n",
       "      <td>4000</td>\n",
       "    </tr>\n",
       "    <tr>\n",
       "      <th>11</th>\n",
       "      <td>0</td>\n",
       "      <td>4500</td>\n",
       "    </tr>\n",
       "    <tr>\n",
       "      <th>12</th>\n",
       "      <td>0</td>\n",
       "      <td>5500</td>\n",
       "    </tr>\n",
       "    <tr>\n",
       "      <th>13</th>\n",
       "      <td>0</td>\n",
       "      <td>6500</td>\n",
       "    </tr>\n",
       "    <tr>\n",
       "      <th>14</th>\n",
       "      <td>0</td>\n",
       "      <td>5000</td>\n",
       "    </tr>\n",
       "    <tr>\n",
       "      <th>15</th>\n",
       "      <td>0</td>\n",
       "      <td>3500</td>\n",
       "    </tr>\n",
       "    <tr>\n",
       "      <th>16</th>\n",
       "      <td>0</td>\n",
       "      <td>7000</td>\n",
       "    </tr>\n",
       "  </tbody>\n",
       "</table>\n",
       "</div>"
      ],
      "text/plain": [
       "    sales  price\n",
       "0       1   1500\n",
       "1       1   2000\n",
       "2       1   5000\n",
       "3       1   3000\n",
       "4       1   3500\n",
       "5       1   2500\n",
       "6       1   4000\n",
       "7       1   4500\n",
       "8       1   3000\n",
       "9       0   4500\n",
       "10      0   4000\n",
       "11      0   4500\n",
       "12      0   5500\n",
       "13      0   6500\n",
       "14      0   5000\n",
       "15      0   3500\n",
       "16      0   7000"
      ]
     },
     "execution_count": 3,
     "metadata": {},
     "output_type": "execute_result"
    }
   ],
   "source": [
    "# 데이터프레임 생성\n",
    "df = pd.DataFrame(data)\n",
    "df"
   ]
  },
  {
   "cell_type": "code",
   "execution_count": 4,
   "id": "b44f859d",
   "metadata": {},
   "outputs": [
    {
     "name": "stdout",
     "output_type": "stream",
     "text": [
      "Optimization terminated successfully.\n",
      "         Current function value: 0.430873\n",
      "         Iterations 7\n",
      "                           Logit Regression Results                           \n",
      "==============================================================================\n",
      "Dep. Variable:                  sales   No. Observations:                   17\n",
      "Model:                          Logit   Df Residuals:                       15\n",
      "Method:                           MLE   Df Model:                            1\n",
      "Date:                Wed, 20 Nov 2024   Pseudo R-squ.:                  0.3768\n",
      "Time:                        11:49:14   Log-Likelihood:                -7.3248\n",
      "converged:                       True   LL-Null:                       -11.754\n",
      "Covariance Type:            nonrobust   LLR p-value:                  0.002917\n",
      "==============================================================================\n",
      "                 coef    std err          z      P>|z|      [0.025      0.975]\n",
      "------------------------------------------------------------------------------\n",
      "Intercept      6.5752      3.300      1.993      0.046       0.108      13.042\n",
      "price         -0.0016      0.001     -2.008      0.045      -0.003   -3.75e-05\n",
      "==============================================================================\n"
     ]
    }
   ],
   "source": [
    "# 데이터셋을 전달받아 fit() 메서드를 호출하면 ML을 실행하며 최적의 weight/bias 값을 찾아 객체를 반환\n",
    "# '종속변수 ~ 독립변수'\n",
    "logis = sm.Logit.from_formula('sales ~ price', data=df).fit()\n",
    "print(logis.summary())"
   ]
  },
  {
   "cell_type": "markdown",
   "id": "3c0d777d",
   "metadata": {},
   "source": [
    "**오즈비를 구해 각 독립변수(price)가 종속변수(sales)를 1로 만들 확률 비교**\n"
   ]
  },
  {
   "cell_type": "code",
   "execution_count": 5,
   "id": "2d5ea173",
   "metadata": {},
   "outputs": [
    {
     "data": {
      "text/plain": [
       "Intercept    0.046288\n",
       "price        0.044652\n",
       "dtype: float64"
      ]
     },
     "execution_count": 5,
     "metadata": {},
     "output_type": "execute_result"
    }
   ],
   "source": [
    "# 1) 독립변수가 유의한지 확인\n",
    "logis.pvalues     # price 0.044652 >> 0.05보다 작음 >> 유의한 독립변수"
   ]
  },
  {
   "cell_type": "code",
   "execution_count": 6,
   "id": "cb49fd4d",
   "metadata": {},
   "outputs": [
    {
     "name": "stdout",
     "output_type": "stream",
     "text": [
      "Intercept    6.575158\n",
      "price       -0.001569\n",
      "dtype: float64\n",
      "-----------------------\n",
      "Intercept    717.058841\n",
      "price          0.998433\n",
      "dtype: float64\n"
     ]
    }
   ],
   "source": [
    "# 2) 오즈비 (Odds ratio; OR) = (사건 발생 확률) / (사건 발생하지 않을 확률)\n",
    "print(logis.params)\n",
    "print(\"-----------------------\")\n",
    "print(np.exp(logis.params))   # np.exp(coef) >> 오즈비"
   ]
  },
  {
   "cell_type": "markdown",
   "id": "0d28b817",
   "metadata": {},
   "source": [
    "**결론: 변수 `price`의 오즈비가 0.998433이므로 가격을 올렸을 때 판매될 가능성이 판매되지 않을 가능성의 0.998433배**"
   ]
  }
 ],
 "metadata": {
  "kernelspec": {
   "display_name": "Python 3 (ipykernel)",
   "language": "python",
   "name": "python3"
  },
  "language_info": {
   "codemirror_mode": {
    "name": "ipython",
    "version": 3
   },
   "file_extension": ".py",
   "mimetype": "text/x-python",
   "name": "python",
   "nbconvert_exporter": "python",
   "pygments_lexer": "ipython3",
   "version": "3.8.19"
  }
 },
 "nbformat": 4,
 "nbformat_minor": 5
}
