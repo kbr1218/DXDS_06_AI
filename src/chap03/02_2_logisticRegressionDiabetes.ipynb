{
 "cells": [
  {
   "cell_type": "markdown",
   "id": "8070186b",
   "metadata": {},
   "source": [
    "# 02-2. Logistic Regression Diabetes"
   ]
  },
  {
   "cell_type": "code",
   "execution_count": 1,
   "id": "eac75bbd",
   "metadata": {},
   "outputs": [],
   "source": [
    "import tensorflow as tf\n",
    "import numpy as np\n",
    "import seaborn as sns"
   ]
  },
  {
   "cell_type": "code",
   "execution_count": 2,
   "id": "48d86e32",
   "metadata": {},
   "outputs": [],
   "source": [
    "data = np.loadtxt(\"data/data-03-diabetes.csv\",\n",
    "                  delimiter=',',\n",
    "                  dtype=np.float64)\n",
    "x_data = data[:, :-1]\n",
    "y_data = data[: ,[-1]]"
   ]
  },
  {
   "cell_type": "code",
   "execution_count": 3,
   "id": "a69ffc2b",
   "metadata": {},
   "outputs": [
    {
     "name": "stdout",
     "output_type": "stream",
     "text": [
      "(759, 8)\n",
      "(759, 1)\n"
     ]
    }
   ],
   "source": [
    "print(x_data.shape)\n",
    "print(y_data.shape)"
   ]
  },
  {
   "cell_type": "code",
   "execution_count": 4,
   "id": "2e837160",
   "metadata": {},
   "outputs": [],
   "source": [
    "model = tf.keras.Sequential()"
   ]
  },
  {
   "cell_type": "code",
   "execution_count": 5,
   "id": "7a0de3d8",
   "metadata": {},
   "outputs": [],
   "source": [
    "model.add(tf.keras.layers.Dense(units=y_data.shape[1],  # DV의 수\n",
    "                                input_dim=x_data.shape[1]\n",
    "                               ))\n",
    "model.add(tf.keras.layers.Activation('sigmoid'))        # 바이너리 형태로 분류하기 위한 시그모이드 활성화 함수"
   ]
  },
  {
   "cell_type": "code",
   "execution_count": 6,
   "id": "d0815238",
   "metadata": {},
   "outputs": [],
   "source": [
    "model.compile(loss='binary_crossentropy',  # 분류 모델\n",
    "              optimizer='sgd',\n",
    "              metrics=['accuracy'])"
   ]
  },
  {
   "cell_type": "code",
   "execution_count": 7,
   "id": "327819d7",
   "metadata": {},
   "outputs": [
    {
     "name": "stdout",
     "output_type": "stream",
     "text": [
      "Model: \"sequential\"\n",
      "_________________________________________________________________\n",
      "Layer (type)                 Output Shape              Param #   \n",
      "=================================================================\n",
      "dense (Dense)                (None, 1)                 9         \n",
      "_________________________________________________________________\n",
      "activation (Activation)      (None, 1)                 0         \n",
      "=================================================================\n",
      "Total params: 9\n",
      "Trainable params: 9\n",
      "Non-trainable params: 0\n",
      "_________________________________________________________________\n"
     ]
    }
   ],
   "source": [
    "model.summary()"
   ]
  },
  {
   "cell_type": "code",
   "execution_count": 8,
   "id": "cd94bb6f",
   "metadata": {},
   "outputs": [],
   "source": [
    "loss = model.fit(x_data,\n",
    "                 y_data,\n",
    "                 epochs=500,\n",
    "                 verbose=0)  # verbose=0: 학습 과정을 출력하지 않음 (학습 시간 단축 가능)"
   ]
  },
  {
   "cell_type": "code",
   "execution_count": 9,
   "id": "2e75f654",
   "metadata": {},
   "outputs": [],
   "source": [
    "### 데이터에 대한 정답을 가지고 있는데도 accuracy가 77.xx%를 못 넘기는 이유는?\n",
    "### >> 입력 데이터의 특징 때문\n",
    "### >> 데이터의 분포가 뚜렷하게 나눠지지 않고 모호하기 때문\n",
    "### >> 개별 feature 들의 분포를 확인하고 다른 feature들간의 겹침의 정도를 먼저 파악\n",
    "### >> (상관분석 & VIF도 확인)\n",
    "\n",
    "### 결론: 분석을 할때 정확도가 나왔다.. 라고 끝내지 말고\n",
    "### 왜 그정도의 정확도가 나왔는지 (feature들의) 시각화를 한 후 설명을 하고\n",
    "### 원인을 파악한 후 개선/수정을 통한 과정을 기록하여 포트폴리오에 담기\n",
    "### >> 문제점 -> 이유 설명 -> 해결책 -> 문제점 -> 이유 설명 -> 해결책 -> ...(반복)"
   ]
  },
  {
   "cell_type": "markdown",
   "id": "2cf4987f",
   "metadata": {},
   "source": [
    "*8개의 features로는 정확도가 77%가 나왔음 >> feature를 개별적으로 확인하고 더 개선 필요*"
   ]
  },
  {
   "cell_type": "code",
   "execution_count": 10,
   "id": "c05ce629",
   "metadata": {},
   "outputs": [
    {
     "name": "stdout",
     "output_type": "stream",
     "text": [
      "ACC: 0.7681159377098083\n"
     ]
    }
   ],
   "source": [
    "# loss에서 학습 마지막의 accuracy 값을 출력\n",
    "print('ACC: {0}'.format(loss.history['accuracy'][-1]))"
   ]
  },
  {
   "cell_type": "code",
   "execution_count": 11,
   "id": "d055532e",
   "metadata": {},
   "outputs": [
    {
     "data": {
      "text/plain": [
       "[array([[-0.81701297],\n",
       "        [-2.7326977 ],\n",
       "        [-0.2828042 ],\n",
       "        [-0.70531815],\n",
       "        [-0.36724305],\n",
       "        [-1.6746378 ],\n",
       "        [-0.9027852 ],\n",
       "        [-0.0914721 ]], dtype=float32),\n",
       " array([0.09348752], dtype=float32)]"
      ]
     },
     "execution_count": 11,
     "metadata": {},
     "output_type": "execute_result"
    }
   ],
   "source": [
    "# get_weights: 현재 업데이트된 feature별 최종 weights의 값\n",
    "weights = model.layers[0].get_weights()  # 지금 모델의 layer는 하나\n",
    "weights"
   ]
  }
 ],
 "metadata": {
  "kernelspec": {
   "display_name": "Python 3 (ipykernel)",
   "language": "python",
   "name": "python3"
  },
  "language_info": {
   "codemirror_mode": {
    "name": "ipython",
    "version": 3
   },
   "file_extension": ".py",
   "mimetype": "text/x-python",
   "name": "python",
   "nbconvert_exporter": "python",
   "pygments_lexer": "ipython3",
   "version": "3.8.19"
  }
 },
 "nbformat": 4,
 "nbformat_minor": 5
}
