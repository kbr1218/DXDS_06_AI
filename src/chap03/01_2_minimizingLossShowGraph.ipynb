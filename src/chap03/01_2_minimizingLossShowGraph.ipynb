{
 "cells": [
  {
   "cell_type": "markdown",
   "id": "18e9a98a",
   "metadata": {},
   "source": [
    "## ✅ 손실함수 그래프 시각화"
   ]
  },
  {
   "cell_type": "code",
   "execution_count": 1,
   "id": "64992ec6",
   "metadata": {},
   "outputs": [],
   "source": [
    "import numpy as np\n",
    "import matplotlib.pyplot as plt\n",
    "import tensorflow as tf"
   ]
  },
  {
   "cell_type": "code",
   "execution_count": 2,
   "id": "6256c5ff",
   "metadata": {},
   "outputs": [],
   "source": [
    "# H(x) = wx + b: w = -1, b = 1\n",
    "x_train = [1, 2, 3, 4]\n",
    "y_train = [0, -1, -2, -3]"
   ]
  },
  {
   "cell_type": "markdown",
   "id": "0179b86c",
   "metadata": {},
   "source": [
    "#### 1. (keras)Sequential 모형 클래스 객체 생성"
   ]
  },
  {
   "cell_type": "code",
   "execution_count": 3,
   "id": "3f17c632",
   "metadata": {},
   "outputs": [],
   "source": [
    "# 신경망을 구성할 수 있는 클래스\n",
    "tf.model = tf.keras.Sequential()"
   ]
  },
  {
   "cell_type": "markdown",
   "id": "e4d033d1",
   "metadata": {},
   "source": [
    "#### 2. add 메소드로 레이어(layer) 추가.\n",
    "   - 입력단부터 순차적으로 추가한다.\n",
    "   - 레이어는 출력(units) 뉴런 갯수를 첫번째 인수로 받는다.\n",
    "   - 최초의 레이어는 input_dim 인수로 입력 크기를 설정해야 한다. \n",
    "   - activation 인수로 활성화 함수 설정한다. "
   ]
  },
  {
   "cell_type": "code",
   "execution_count": 4,
   "id": "fbdb6228",
   "metadata": {},
   "outputs": [],
   "source": [
    "# dense()로 레이어 구성\n",
    "tf.model.add(tf.keras.layers.Dense(units=1,             # 출력을 몇 개 할 것인지 \n",
    "                                  input_dim=1,          # 입력의 개수 (단순 회귀이므로 1개의 입력 & 1개의 출력)\n",
    "                                  activation='linear')  # 활성화 함수 파라미터에 어떤 모형을 만들어 줄 것인지 (여기서는 선형회귀)\n",
    "            )"
   ]
  },
  {
   "cell_type": "code",
   "execution_count": 5,
   "id": "22f2305c",
   "metadata": {},
   "outputs": [
    {
     "name": "stdout",
     "output_type": "stream",
     "text": [
      "Model: \"sequential\"\n",
      "_________________________________________________________________\n",
      "Layer (type)                 Output Shape              Param #   \n",
      "=================================================================\n",
      "dense (Dense)                (None, 1)                 2         \n",
      "=================================================================\n",
      "Total params: 2\n",
      "Trainable params: 2\n",
      "Non-trainable params: 0\n",
      "_________________________________________________________________\n"
     ]
    }
   ],
   "source": [
    "# 설정된 신경망 구성 확인\n",
    "tf.model.summary()"
   ]
  },
  {
   "cell_type": "code",
   "execution_count": 6,
   "id": "e9a0c5af",
   "metadata": {},
   "outputs": [],
   "source": [
    "# 기계학습을 시킬 알고리즘 정의 (경사하강법)\n",
    "sgd = tf.keras.optimizers.SGD(learning_rate=0.1)\n",
    "\n",
    "# 현재 모델에 compile 함수로 학습시에 필요한 정보들 추가 \n",
    "tf.model.compile(loss='mse',      # 비용(|손실) 함수\n",
    "                optimizer=sgd)    # 최적의 w값을 찾을 때 적용할 알고리즘 (신경망의 hyper-parameter)"
   ]
  },
  {
   "cell_type": "code",
   "execution_count": 7,
   "id": "5363e111",
   "metadata": {},
   "outputs": [
    {
     "name": "stdout",
     "output_type": "stream",
     "text": [
      "Epoch 1/100\n",
      "1/1 [==============================] - 0s 0s/step - loss: 14.1056\n",
      "Epoch 2/100\n",
      "1/1 [==============================] - 0s 994us/step - loss: 6.4974\n",
      "Epoch 3/100\n",
      "1/1 [==============================] - 0s 0s/step - loss: 3.0717\n",
      "Epoch 4/100\n",
      "1/1 [==============================] - 0s 997us/step - loss: 1.5245\n",
      "Epoch 5/100\n",
      "1/1 [==============================] - 0s 996us/step - loss: 0.8213\n",
      "Epoch 6/100\n",
      "1/1 [==============================] - 0s 1ms/step - loss: 0.4975\n",
      "Epoch 7/100\n",
      "1/1 [==============================] - 0s 1ms/step - loss: 0.3445\n",
      "Epoch 8/100\n",
      "1/1 [==============================] - 0s 1ms/step - loss: 0.2687\n",
      "Epoch 9/100\n",
      "1/1 [==============================] - 0s 0s/step - loss: 0.2279\n",
      "Epoch 10/100\n",
      "1/1 [==============================] - 0s 0s/step - loss: 0.2033\n",
      "Epoch 11/100\n",
      "1/1 [==============================] - 0s 1ms/step - loss: 0.1863\n",
      "Epoch 12/100\n",
      "1/1 [==============================] - 0s 0s/step - loss: 0.1730\n",
      "Epoch 13/100\n",
      "1/1 [==============================] - 0s 1ms/step - loss: 0.1618\n",
      "Epoch 14/100\n",
      "1/1 [==============================] - 0s 1ms/step - loss: 0.1518\n",
      "Epoch 15/100\n",
      "1/1 [==============================] - 0s 0s/step - loss: 0.1427\n",
      "Epoch 16/100\n",
      "1/1 [==============================] - 0s 1ms/step - loss: 0.1342\n",
      "Epoch 17/100\n",
      "1/1 [==============================] - 0s 996us/step - loss: 0.1262\n",
      "Epoch 18/100\n",
      "1/1 [==============================] - 0s 0s/step - loss: 0.1187\n",
      "Epoch 19/100\n",
      "1/1 [==============================] - 0s 997us/step - loss: 0.1117\n",
      "Epoch 20/100\n",
      "1/1 [==============================] - 0s 995us/step - loss: 0.1051\n",
      "Epoch 21/100\n",
      "1/1 [==============================] - 0s 996us/step - loss: 0.0989\n",
      "Epoch 22/100\n",
      "1/1 [==============================] - 0s 1ms/step - loss: 0.0931\n",
      "Epoch 23/100\n",
      "1/1 [==============================] - 0s 1ms/step - loss: 0.0876\n",
      "Epoch 24/100\n",
      "1/1 [==============================] - 0s 997us/step - loss: 0.0824\n",
      "Epoch 25/100\n",
      "1/1 [==============================] - 0s 996us/step - loss: 0.0776\n",
      "Epoch 26/100\n",
      "1/1 [==============================] - 0s 0s/step - loss: 0.0730\n",
      "Epoch 27/100\n",
      "1/1 [==============================] - 0s 997us/step - loss: 0.0687\n",
      "Epoch 28/100\n",
      "1/1 [==============================] - 0s 2ms/step - loss: 0.0646\n",
      "Epoch 29/100\n",
      "1/1 [==============================] - 0s 0s/step - loss: 0.0608\n",
      "Epoch 30/100\n",
      "1/1 [==============================] - 0s 997us/step - loss: 0.0572\n",
      "Epoch 31/100\n",
      "1/1 [==============================] - 0s 996us/step - loss: 0.0539\n",
      "Epoch 32/100\n",
      "1/1 [==============================] - 0s 0s/step - loss: 0.0507\n",
      "Epoch 33/100\n",
      "1/1 [==============================] - 0s 998us/step - loss: 0.0477\n",
      "Epoch 34/100\n",
      "1/1 [==============================] - 0s 988us/step - loss: 0.0449\n",
      "Epoch 35/100\n",
      "1/1 [==============================] - 0s 996us/step - loss: 0.0422\n",
      "Epoch 36/100\n",
      "1/1 [==============================] - 0s 0s/step - loss: 0.0397\n",
      "Epoch 37/100\n",
      "1/1 [==============================] - 0s 995us/step - loss: 0.0374\n",
      "Epoch 38/100\n",
      "1/1 [==============================] - 0s 0s/step - loss: 0.0352\n",
      "Epoch 39/100\n",
      "1/1 [==============================] - 0s 997us/step - loss: 0.0331\n",
      "Epoch 40/100\n",
      "1/1 [==============================] - 0s 0s/step - loss: 0.0312\n",
      "Epoch 41/100\n",
      "1/1 [==============================] - 0s 995us/step - loss: 0.0293\n",
      "Epoch 42/100\n",
      "1/1 [==============================] - 0s 997us/step - loss: 0.0276\n",
      "Epoch 43/100\n",
      "1/1 [==============================] - 0s 997us/step - loss: 0.0260\n",
      "Epoch 44/100\n",
      "1/1 [==============================] - 0s 1ms/step - loss: 0.0244\n",
      "Epoch 45/100\n",
      "1/1 [==============================] - 0s 998us/step - loss: 0.0230\n",
      "Epoch 46/100\n",
      "1/1 [==============================] - 0s 996us/step - loss: 0.0216\n",
      "Epoch 47/100\n",
      "1/1 [==============================] - 0s 1ms/step - loss: 0.0204\n",
      "Epoch 48/100\n",
      "1/1 [==============================] - 0s 0s/step - loss: 0.0192\n",
      "Epoch 49/100\n",
      "1/1 [==============================] - 0s 996us/step - loss: 0.0180\n",
      "Epoch 50/100\n",
      "1/1 [==============================] - 0s 997us/step - loss: 0.0170\n",
      "Epoch 51/100\n",
      "1/1 [==============================] - 0s 0s/step - loss: 0.0160\n",
      "Epoch 52/100\n",
      "1/1 [==============================] - 0s 987us/step - loss: 0.0150\n",
      "Epoch 53/100\n",
      "1/1 [==============================] - 0s 2ms/step - loss: 0.0141\n",
      "Epoch 54/100\n",
      "1/1 [==============================] - 0s 1ms/step - loss: 0.0133\n",
      "Epoch 55/100\n",
      "1/1 [==============================] - 0s 996us/step - loss: 0.0125\n",
      "Epoch 56/100\n",
      "1/1 [==============================] - 0s 997us/step - loss: 0.0118\n",
      "Epoch 57/100\n",
      "1/1 [==============================] - 0s 995us/step - loss: 0.0111\n",
      "Epoch 58/100\n",
      "1/1 [==============================] - 0s 0s/step - loss: 0.0104\n",
      "Epoch 59/100\n",
      "1/1 [==============================] - 0s 0s/step - loss: 0.0098\n",
      "Epoch 60/100\n",
      "1/1 [==============================] - 0s 1ms/step - loss: 0.0092\n",
      "Epoch 61/100\n",
      "1/1 [==============================] - 0s 1ms/step - loss: 0.0087\n",
      "Epoch 62/100\n",
      "1/1 [==============================] - 0s 969us/step - loss: 0.0082\n",
      "Epoch 63/100\n",
      "1/1 [==============================] - 0s 0s/step - loss: 0.0077\n",
      "Epoch 64/100\n",
      "1/1 [==============================] - 0s 0s/step - loss: 0.0072\n",
      "Epoch 65/100\n",
      "1/1 [==============================] - 0s 998us/step - loss: 0.0068\n",
      "Epoch 66/100\n",
      "1/1 [==============================] - 0s 997us/step - loss: 0.0064\n",
      "Epoch 67/100\n",
      "1/1 [==============================] - 0s 995us/step - loss: 0.0060\n",
      "Epoch 68/100\n",
      "1/1 [==============================] - 0s 983us/step - loss: 0.0057\n",
      "Epoch 69/100\n",
      "1/1 [==============================] - 0s 0s/step - loss: 0.0053\n",
      "Epoch 70/100\n",
      "1/1 [==============================] - 0s 995us/step - loss: 0.0050\n",
      "Epoch 71/100\n",
      "1/1 [==============================] - 0s 997us/step - loss: 0.0047\n",
      "Epoch 72/100\n",
      "1/1 [==============================] - 0s 0s/step - loss: 0.0045\n",
      "Epoch 73/100\n",
      "1/1 [==============================] - 0s 996us/step - loss: 0.0042\n",
      "Epoch 74/100\n",
      "1/1 [==============================] - 0s 996us/step - loss: 0.0039\n",
      "Epoch 75/100\n",
      "1/1 [==============================] - 0s 0s/step - loss: 0.0037\n",
      "Epoch 76/100\n",
      "1/1 [==============================] - 0s 1ms/step - loss: 0.0035\n",
      "Epoch 77/100\n",
      "1/1 [==============================] - 0s 0s/step - loss: 0.0033\n",
      "Epoch 78/100\n",
      "1/1 [==============================] - 0s 996us/step - loss: 0.0031\n",
      "Epoch 79/100\n",
      "1/1 [==============================] - 0s 1ms/step - loss: 0.0029\n",
      "Epoch 80/100\n",
      "1/1 [==============================] - 0s 984us/step - loss: 0.0027\n",
      "Epoch 81/100\n",
      "1/1 [==============================] - 0s 996us/step - loss: 0.0026\n",
      "Epoch 82/100\n",
      "1/1 [==============================] - 0s 0s/step - loss: 0.0024\n",
      "Epoch 83/100\n",
      "1/1 [==============================] - 0s 0s/step - loss: 0.0023\n",
      "Epoch 84/100\n",
      "1/1 [==============================] - 0s 996us/step - loss: 0.0021\n",
      "Epoch 85/100\n",
      "1/1 [==============================] - 0s 987us/step - loss: 0.0020\n",
      "Epoch 86/100\n",
      "1/1 [==============================] - 0s 996us/step - loss: 0.0019\n",
      "Epoch 87/100\n",
      "1/1 [==============================] - 0s 1ms/step - loss: 0.0018\n",
      "Epoch 88/100\n",
      "1/1 [==============================] - 0s 994us/step - loss: 0.0017\n",
      "Epoch 89/100\n",
      "1/1 [==============================] - 0s 996us/step - loss: 0.0016\n",
      "Epoch 90/100\n",
      "1/1 [==============================] - 0s 995us/step - loss: 0.0015\n",
      "Epoch 91/100\n",
      "1/1 [==============================] - 0s 995us/step - loss: 0.0014\n",
      "Epoch 92/100\n",
      "1/1 [==============================] - 0s 952us/step - loss: 0.0013\n",
      "Epoch 93/100\n",
      "1/1 [==============================] - 0s 997us/step - loss: 0.0012\n",
      "Epoch 94/100\n",
      "1/1 [==============================] - 0s 0s/step - loss: 0.0012\n",
      "Epoch 95/100\n",
      "1/1 [==============================] - 0s 996us/step - loss: 0.0011\n",
      "Epoch 96/100\n",
      "1/1 [==============================] - 0s 996us/step - loss: 0.0010\n",
      "Epoch 97/100\n",
      "1/1 [==============================] - 0s 997us/step - loss: 9.7448e-04\n",
      "Epoch 98/100\n",
      "1/1 [==============================] - 0s 1ms/step - loss: 9.1701e-04\n",
      "Epoch 99/100\n",
      "1/1 [==============================] - 0s 993us/step - loss: 8.6292e-04\n",
      "Epoch 100/100\n",
      "1/1 [==============================] - 0s 1ms/step - loss: 8.1203e-04\n"
     ]
    }
   ],
   "source": [
    "# 모델학습 (손실값(loss)을 시각화하기 위해 변수에 저장)\n",
    "loss = tf.model.fit(x_train,\n",
    "                    y_train,\n",
    "                    epochs=100    # 몇 번의 반복학습을 시킬건지 지정\n",
    "                    )\n",
    "# 아래 학습하는 과정에서 출력된 loss 값은 mse를 통해 계산된 값"
   ]
  },
  {
   "cell_type": "code",
   "execution_count": 8,
   "id": "3bd5d509",
   "metadata": {},
   "outputs": [
    {
     "data": {
      "text/plain": [
       "<matplotlib.legend.Legend at 0x261fdabafd0>"
      ]
     },
     "execution_count": 8,
     "metadata": {},
     "output_type": "execute_result"
    },
    {
     "data": {
      "image/png": "[encoded data removed]",
      "text/plain": [
       "<Figure size 640x480 with 1 Axes>"
      ]
     },
     "metadata": {},
     "output_type": "display_data"
    }
   ],
   "source": [
    "# 손실값(loss.history)의 변화를 시각화\n",
    "plt.plot(loss.history['loss'])\n",
    "plt.title(\"Model Loss\")\n",
    "plt.xlabel(\"epochs\")\n",
    "plt.ylabel(\"loss\")\n",
    "plt.legend(['Train'], loc='upper right')"
   ]
  },
  {
   "cell_type": "code",
   "execution_count": 9,
   "id": "118eb85f",
   "metadata": {},
   "outputs": [
    {
     "data": {
      "text/plain": [
       "[array([[-0.97699386]], dtype=float32), array([0.9323591], dtype=float32)]"
      ]
     },
     "execution_count": 9,
     "metadata": {},
     "output_type": "execute_result"
    }
   ],
   "source": [
    "weights = tf.model.layers[0].get_weights()\n",
    "weights\n",
    "# [-0.9994138 = w, 0.99827653 = bias]\n",
    "# 이상적으로는 w=-1, b=1 값이 나와야 함"
   ]
  }
 ],
 "metadata": {
  "kernelspec": {
   "display_name": "Python 3 (ipykernel)",
   "language": "python",
   "name": "python3"
  },
  "language_info": {
   "codemirror_mode": {
    "name": "ipython",
    "version": 3
   },
   "file_extension": ".py",
   "mimetype": "text/x-python",
   "name": "python",
   "nbconvert_exporter": "python",
   "pygments_lexer": "ipython3",
   "version": "3.8.19"
  }
 },
 "nbformat": 4,
 "nbformat_minor": 5
}
