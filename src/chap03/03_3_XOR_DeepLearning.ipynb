{
 "cells": [
  {
   "cell_type": "markdown",
   "id": "57f66c15",
   "metadata": {},
   "source": [
    "# XOR Deep Learning"
   ]
  },
  {
   "cell_type": "code",
   "execution_count": 1,
   "id": "9303df4a",
   "metadata": {},
   "outputs": [],
   "source": [
    "import tensorflow as tf\n",
    "import numpy as np"
   ]
  },
  {
   "cell_type": "code",
   "execution_count": 2,
   "id": "53674307",
   "metadata": {},
   "outputs": [],
   "source": [
    "# Gate\n",
    "x_data = np.array([[0, 0], [0, 1], [1, 0], [1, 1]], dtype=np.float32)\n",
    "\n",
    "# XOR gate\n",
    "y_data = np.array([[0], [1], [1], [0]], dtype=np.float32)"
   ]
  },
  {
   "cell_type": "code",
   "execution_count": 3,
   "id": "c544725a",
   "metadata": {},
   "outputs": [],
   "source": [
    "model = tf.keras.Sequential()\n",
    "\n",
    "# 다층 레이어 구성하기 (맨 처음 노드의 입력과 맨 마지막 노드의 출력 노드 수만 정해져있으면 됨)\n",
    "model.add(tf.keras.layers.Dense(units = 10, input_dim=x_data.shape[1], activation='sigmoid'))  # input_dim : 입력 데이터의 feautre\n",
    "\n",
    "# 앞의 레이어 units(출력)와 뒷 레이어의 입력(input_dim)이 같아야 함 \n",
    "# 레이어를 연결하면 연결되는 시그모이드도 늘어남 >> SVM의 gamma값처럼 그래프의 곡률이 높아짐\n",
    "\n",
    "# 레이어의 갯수는 정해져있지 않지만, 주로 3개 이상의 레이어를 딥러닝이라고 함\n",
    "# input_dim은 최초 레이어 입력 시에만 정해주면 됨\n",
    "# 출력 레이어 개수만 정해주면 됨\n",
    "model.add(tf.keras.layers.Dense(units = 10, activation='sigmoid'))\n",
    "model.add(tf.keras.layers.Dense(units = 10, activation='sigmoid')) \n",
    "model.add(tf.keras.layers.Dense(units = 10, activation='sigmoid')) \n",
    "model.add(tf.keras.layers.Dense(units = 1, activation='sigmoid'))"
   ]
  },
  {
   "cell_type": "code",
   "execution_count": 4,
   "id": "b54b2dbe",
   "metadata": {},
   "outputs": [
    {
     "name": "stdout",
     "output_type": "stream",
     "text": [
      "Model: \"sequential\"\n",
      "_________________________________________________________________\n",
      "Layer (type)                 Output Shape              Param #   \n",
      "=================================================================\n",
      "dense (Dense)                (None, 10)                30        \n",
      "_________________________________________________________________\n",
      "dense_1 (Dense)              (None, 10)                110       \n",
      "_________________________________________________________________\n",
      "dense_2 (Dense)              (None, 10)                110       \n",
      "_________________________________________________________________\n",
      "dense_3 (Dense)              (None, 10)                110       \n",
      "_________________________________________________________________\n",
      "dense_4 (Dense)              (None, 1)                 11        \n",
      "=================================================================\n",
      "Total params: 371\n",
      "Trainable params: 371\n",
      "Non-trainable params: 0\n",
      "_________________________________________________________________\n"
     ]
    }
   ],
   "source": [
    "model.compile(loss='binary_crossentropy', optimizer=tf.optimizers.SGD(learning_rate=0.1), metrics=['accuracy'])\n",
    "model.summary()"
   ]
  },
  {
   "cell_type": "markdown",
   "id": "fa5e5cd9",
   "metadata": {},
   "source": [
    "- 첫 번째 layer: 2(input) * 10(output) + 10 (bias)\n",
    "- 두 번째 layer: 10(input) * 10(output) + 10 (bias)\n",
    "- ..."
   ]
  }
 ],
 "metadata": {
  "kernelspec": {
   "display_name": "Python 3 (ipykernel)",
   "language": "python",
   "name": "python3"
  },
  "language_info": {
   "codemirror_mode": {
    "name": "ipython",
    "version": 3
   },
   "file_extension": ".py",
   "mimetype": "text/x-python",
   "name": "python",
   "nbconvert_exporter": "python",
   "pygments_lexer": "ipython3",
   "version": "3.8.19"
  }
 },
 "nbformat": 4,
 "nbformat_minor": 5
}
