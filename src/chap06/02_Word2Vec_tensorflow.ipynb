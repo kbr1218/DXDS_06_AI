{
 "cells": [
  {
   "cell_type": "markdown",
   "id": "3d500602",
   "metadata": {},
   "source": [
    "# 02. Word2Vec tensorflow"
   ]
  },
  {
   "cell_type": "code",
   "execution_count": 22,
   "id": "6f94bc09",
   "metadata": {},
   "outputs": [],
   "source": [
    "import tensorflow as tf\n",
    "from tensorflow.keras.layers import Dense, Input\n",
    "from tensorflow.keras.models import Model\n",
    "\n",
    "import numpy as np\n",
    "import pandas as pd\n",
    "import matplotlib.pyplot as plt\n",
    "\n",
    "from IPython.display import Image"
   ]
  },
  {
   "cell_type": "markdown",
   "id": "ee7b2cde",
   "metadata": {},
   "source": [
    "## Word2Vec (word to vector)\n",
    "- 의미가 비슷한 단어는 벡터 공간에서 서로 가까운 위치에 존재하도록 변환하는 알고리즘\n",
    "- 비지도학습으로 말뭉치 데이터만 있으면 쉽게 word2vec를 구할 수 있음 (label이 자동으로 생성되는 장점이 있음)"
   ]
  },
  {
   "cell_type": "code",
   "execution_count": 2,
   "id": "16499b6b",
   "metadata": {},
   "outputs": [],
   "source": [
    "corpus = ['king is a strong man', \n",
    "          'queen is a wise woman', \n",
    "          'boy is a young man',\n",
    "          'girl is a young woman',\n",
    "          'prince is a young king',\n",
    "          'princess is a young queen',\n",
    "          'man is strong', \n",
    "          'woman is pretty',\n",
    "          'prince is a boy will be king',\n",
    "          'princess is a girl will be queen']"
   ]
  },
  {
   "cell_type": "markdown",
   "id": "1dc3b5db",
   "metadata": {},
   "source": [
    "<hr>\n",
    "\n",
    "## 전처리 - stop words 제거하기\n",
    "- stop words: 학습에 도움이 되지도 않으면서 빈번하게 발생되는 단어"
   ]
  },
  {
   "cell_type": "code",
   "execution_count": 4,
   "id": "b277fbf0",
   "metadata": {},
   "outputs": [],
   "source": [
    "def remove_stop_words(corpus):\n",
    "    stop_words = ['is', 'a', 'will', 'be']\n",
    "    result = []\n",
    "    \n",
    "    for text in corpus:\n",
    "        tmp = text.split(' ')  # 띄어쓰기 기준으로 분류\n",
    "        for stop_word in stop_words:\n",
    "            if stop_word in tmp:      # stop_words 리스트에 있는 단어와 같다면 제거\n",
    "                tmp.remove(stop_word)\n",
    "                \n",
    "        result.append(\" \".join(tmp))\n",
    "    return result"
   ]
  },
  {
   "cell_type": "code",
   "execution_count": 5,
   "id": "cbc70d37",
   "metadata": {},
   "outputs": [
    {
     "data": {
      "text/plain": [
       "['king strong man',\n",
       " 'queen wise woman',\n",
       " 'boy young man',\n",
       " 'girl young woman',\n",
       " 'prince young king',\n",
       " 'princess young queen',\n",
       " 'man strong',\n",
       " 'woman pretty',\n",
       " 'prince boy king',\n",
       " 'princess girl queen']"
      ]
     },
     "execution_count": 5,
     "metadata": {},
     "output_type": "execute_result"
    }
   ],
   "source": [
    "corpus = remove_stop_words(corpus)\n",
    "corpus"
   ]
  },
  {
   "cell_type": "code",
   "execution_count": 7,
   "id": "adf3eaa2",
   "metadata": {},
   "outputs": [
    {
     "data": {
      "text/plain": [
       "{'boy',\n",
       " 'girl',\n",
       " 'king',\n",
       " 'man',\n",
       " 'pretty',\n",
       " 'prince',\n",
       " 'princess',\n",
       " 'queen',\n",
       " 'strong',\n",
       " 'wise',\n",
       " 'woman',\n",
       " 'young'}"
      ]
     },
     "execution_count": 7,
     "metadata": {},
     "output_type": "execute_result"
    }
   ],
   "source": [
    "# 전처리된 corpus 리스트 안의 문장만큼 반복 하면서 여백을 기준으로 단어 저장\n",
    "words = []\n",
    "for text in corpus:\n",
    "    for word in text.split(' '):\n",
    "        words.append(word)\n",
    "\n",
    "# 집합 자료형에 담아 중복된 단어 제거\n",
    "words = set(words)\n",
    "words"
   ]
  },
  {
   "cell_type": "markdown",
   "id": "f2b66f80",
   "metadata": {},
   "source": [
    "<hr>\n",
    "\n",
    "## 단어별 인덱스 매핑 테이블 만들기"
   ]
  },
  {
   "cell_type": "code",
   "execution_count": 9,
   "id": "36d55136",
   "metadata": {},
   "outputs": [
    {
     "data": {
      "text/plain": [
       "{'young': 0,\n",
       " 'man': 1,\n",
       " 'queen': 2,\n",
       " 'strong': 3,\n",
       " 'boy': 4,\n",
       " 'princess': 5,\n",
       " 'pretty': 6,\n",
       " 'woman': 7,\n",
       " 'king': 8,\n",
       " 'girl': 9,\n",
       " 'prince': 10,\n",
       " 'wise': 11}"
      ]
     },
     "execution_count": 9,
     "metadata": {},
     "output_type": "execute_result"
    }
   ],
   "source": [
    "word2int = {}\n",
    "for i, word in enumerate(words):\n",
    "    word2int[word] = i\n",
    "\n",
    "word2int   # 말뭉치 == corpus == 자연어 처리의 input 데이터 == 단어 "
   ]
  },
  {
   "cell_type": "markdown",
   "id": "50f12575",
   "metadata": {},
   "source": [
    "<hr>\n",
    "\n",
    "## label 생성\n",
    "- skip gram 방식으로 각 단어별 레이블을 생성\n",
    "- skip gram: 빈칸 집어넣기 (내 단어를 중심으로 앞뒤 단어 맞히기)\n",
    "    - GPT: 다음 단어 맞히기\n",
    "    - BERT: 단어 앞뒤 맞히기"
   ]
  },
  {
   "cell_type": "code",
   "execution_count": 10,
   "id": "90de64f5",
   "metadata": {},
   "outputs": [],
   "source": [
    "sentences = []\n",
    "\n",
    "for sentence in corpus:\n",
    "    sentences.append(sentence.split())\n",
    "    \n",
    "WINDOW_SIZE = 2  # 앞 뒤로 두 단어씩을 정답 데이터로 만듦\n",
    "\n",
    "data = []\n",
    "for sentence in sentences:\n",
    "    for idx, word in enumerate(sentence):\n",
    "        for neighbor in sentence[\n",
    "            max(idx - WINDOW_SIZE, 0): # 앞 뒤로 두 개씩 잘라냄\n",
    "            min(idx + WINDOW_SIZE, len(sentence)) + 1]:\n",
    "            if neighbor != word:\n",
    "                data.append([word, neighbor])"
   ]
  },
  {
   "cell_type": "code",
   "execution_count": 11,
   "id": "ad65d869",
   "metadata": {},
   "outputs": [
    {
     "data": {
      "text/html": [
       "<div>\n",
       "<style scoped>\n",
       "    .dataframe tbody tr th:only-of-type {\n",
       "        vertical-align: middle;\n",
       "    }\n",
       "\n",
       "    .dataframe tbody tr th {\n",
       "        vertical-align: top;\n",
       "    }\n",
       "\n",
       "    .dataframe thead th {\n",
       "        text-align: right;\n",
       "    }\n",
       "</style>\n",
       "<table border=\"1\" class=\"dataframe\">\n",
       "  <thead>\n",
       "    <tr style=\"text-align: right;\">\n",
       "      <th></th>\n",
       "      <th>input</th>\n",
       "      <th>label</th>\n",
       "    </tr>\n",
       "  </thead>\n",
       "  <tbody>\n",
       "    <tr>\n",
       "      <th>0</th>\n",
       "      <td>king</td>\n",
       "      <td>strong</td>\n",
       "    </tr>\n",
       "    <tr>\n",
       "      <th>1</th>\n",
       "      <td>king</td>\n",
       "      <td>man</td>\n",
       "    </tr>\n",
       "    <tr>\n",
       "      <th>2</th>\n",
       "      <td>strong</td>\n",
       "      <td>king</td>\n",
       "    </tr>\n",
       "    <tr>\n",
       "      <th>3</th>\n",
       "      <td>strong</td>\n",
       "      <td>man</td>\n",
       "    </tr>\n",
       "    <tr>\n",
       "      <th>4</th>\n",
       "      <td>man</td>\n",
       "      <td>king</td>\n",
       "    </tr>\n",
       "    <tr>\n",
       "      <th>5</th>\n",
       "      <td>man</td>\n",
       "      <td>strong</td>\n",
       "    </tr>\n",
       "    <tr>\n",
       "      <th>6</th>\n",
       "      <td>queen</td>\n",
       "      <td>wise</td>\n",
       "    </tr>\n",
       "    <tr>\n",
       "      <th>7</th>\n",
       "      <td>queen</td>\n",
       "      <td>woman</td>\n",
       "    </tr>\n",
       "    <tr>\n",
       "      <th>8</th>\n",
       "      <td>wise</td>\n",
       "      <td>queen</td>\n",
       "    </tr>\n",
       "    <tr>\n",
       "      <th>9</th>\n",
       "      <td>wise</td>\n",
       "      <td>woman</td>\n",
       "    </tr>\n",
       "    <tr>\n",
       "      <th>10</th>\n",
       "      <td>woman</td>\n",
       "      <td>queen</td>\n",
       "    </tr>\n",
       "    <tr>\n",
       "      <th>11</th>\n",
       "      <td>woman</td>\n",
       "      <td>wise</td>\n",
       "    </tr>\n",
       "    <tr>\n",
       "      <th>12</th>\n",
       "      <td>boy</td>\n",
       "      <td>young</td>\n",
       "    </tr>\n",
       "    <tr>\n",
       "      <th>13</th>\n",
       "      <td>boy</td>\n",
       "      <td>man</td>\n",
       "    </tr>\n",
       "    <tr>\n",
       "      <th>14</th>\n",
       "      <td>young</td>\n",
       "      <td>boy</td>\n",
       "    </tr>\n",
       "    <tr>\n",
       "      <th>15</th>\n",
       "      <td>young</td>\n",
       "      <td>man</td>\n",
       "    </tr>\n",
       "    <tr>\n",
       "      <th>16</th>\n",
       "      <td>man</td>\n",
       "      <td>boy</td>\n",
       "    </tr>\n",
       "    <tr>\n",
       "      <th>17</th>\n",
       "      <td>man</td>\n",
       "      <td>young</td>\n",
       "    </tr>\n",
       "    <tr>\n",
       "      <th>18</th>\n",
       "      <td>girl</td>\n",
       "      <td>young</td>\n",
       "    </tr>\n",
       "    <tr>\n",
       "      <th>19</th>\n",
       "      <td>girl</td>\n",
       "      <td>woman</td>\n",
       "    </tr>\n",
       "    <tr>\n",
       "      <th>20</th>\n",
       "      <td>young</td>\n",
       "      <td>girl</td>\n",
       "    </tr>\n",
       "    <tr>\n",
       "      <th>21</th>\n",
       "      <td>young</td>\n",
       "      <td>woman</td>\n",
       "    </tr>\n",
       "    <tr>\n",
       "      <th>22</th>\n",
       "      <td>woman</td>\n",
       "      <td>girl</td>\n",
       "    </tr>\n",
       "    <tr>\n",
       "      <th>23</th>\n",
       "      <td>woman</td>\n",
       "      <td>young</td>\n",
       "    </tr>\n",
       "    <tr>\n",
       "      <th>24</th>\n",
       "      <td>prince</td>\n",
       "      <td>young</td>\n",
       "    </tr>\n",
       "    <tr>\n",
       "      <th>25</th>\n",
       "      <td>prince</td>\n",
       "      <td>king</td>\n",
       "    </tr>\n",
       "    <tr>\n",
       "      <th>26</th>\n",
       "      <td>young</td>\n",
       "      <td>prince</td>\n",
       "    </tr>\n",
       "    <tr>\n",
       "      <th>27</th>\n",
       "      <td>young</td>\n",
       "      <td>king</td>\n",
       "    </tr>\n",
       "    <tr>\n",
       "      <th>28</th>\n",
       "      <td>king</td>\n",
       "      <td>prince</td>\n",
       "    </tr>\n",
       "    <tr>\n",
       "      <th>29</th>\n",
       "      <td>king</td>\n",
       "      <td>young</td>\n",
       "    </tr>\n",
       "    <tr>\n",
       "      <th>30</th>\n",
       "      <td>princess</td>\n",
       "      <td>young</td>\n",
       "    </tr>\n",
       "    <tr>\n",
       "      <th>31</th>\n",
       "      <td>princess</td>\n",
       "      <td>queen</td>\n",
       "    </tr>\n",
       "    <tr>\n",
       "      <th>32</th>\n",
       "      <td>young</td>\n",
       "      <td>princess</td>\n",
       "    </tr>\n",
       "    <tr>\n",
       "      <th>33</th>\n",
       "      <td>young</td>\n",
       "      <td>queen</td>\n",
       "    </tr>\n",
       "    <tr>\n",
       "      <th>34</th>\n",
       "      <td>queen</td>\n",
       "      <td>princess</td>\n",
       "    </tr>\n",
       "    <tr>\n",
       "      <th>35</th>\n",
       "      <td>queen</td>\n",
       "      <td>young</td>\n",
       "    </tr>\n",
       "    <tr>\n",
       "      <th>36</th>\n",
       "      <td>man</td>\n",
       "      <td>strong</td>\n",
       "    </tr>\n",
       "    <tr>\n",
       "      <th>37</th>\n",
       "      <td>strong</td>\n",
       "      <td>man</td>\n",
       "    </tr>\n",
       "    <tr>\n",
       "      <th>38</th>\n",
       "      <td>woman</td>\n",
       "      <td>pretty</td>\n",
       "    </tr>\n",
       "    <tr>\n",
       "      <th>39</th>\n",
       "      <td>pretty</td>\n",
       "      <td>woman</td>\n",
       "    </tr>\n",
       "    <tr>\n",
       "      <th>40</th>\n",
       "      <td>prince</td>\n",
       "      <td>boy</td>\n",
       "    </tr>\n",
       "    <tr>\n",
       "      <th>41</th>\n",
       "      <td>prince</td>\n",
       "      <td>king</td>\n",
       "    </tr>\n",
       "    <tr>\n",
       "      <th>42</th>\n",
       "      <td>boy</td>\n",
       "      <td>prince</td>\n",
       "    </tr>\n",
       "    <tr>\n",
       "      <th>43</th>\n",
       "      <td>boy</td>\n",
       "      <td>king</td>\n",
       "    </tr>\n",
       "    <tr>\n",
       "      <th>44</th>\n",
       "      <td>king</td>\n",
       "      <td>prince</td>\n",
       "    </tr>\n",
       "    <tr>\n",
       "      <th>45</th>\n",
       "      <td>king</td>\n",
       "      <td>boy</td>\n",
       "    </tr>\n",
       "    <tr>\n",
       "      <th>46</th>\n",
       "      <td>princess</td>\n",
       "      <td>girl</td>\n",
       "    </tr>\n",
       "    <tr>\n",
       "      <th>47</th>\n",
       "      <td>princess</td>\n",
       "      <td>queen</td>\n",
       "    </tr>\n",
       "    <tr>\n",
       "      <th>48</th>\n",
       "      <td>girl</td>\n",
       "      <td>princess</td>\n",
       "    </tr>\n",
       "    <tr>\n",
       "      <th>49</th>\n",
       "      <td>girl</td>\n",
       "      <td>queen</td>\n",
       "    </tr>\n",
       "    <tr>\n",
       "      <th>50</th>\n",
       "      <td>queen</td>\n",
       "      <td>princess</td>\n",
       "    </tr>\n",
       "    <tr>\n",
       "      <th>51</th>\n",
       "      <td>queen</td>\n",
       "      <td>girl</td>\n",
       "    </tr>\n",
       "  </tbody>\n",
       "</table>\n",
       "</div>"
      ],
      "text/plain": [
       "       input     label\n",
       "0       king    strong\n",
       "1       king       man\n",
       "2     strong      king\n",
       "3     strong       man\n",
       "4        man      king\n",
       "5        man    strong\n",
       "6      queen      wise\n",
       "7      queen     woman\n",
       "8       wise     queen\n",
       "9       wise     woman\n",
       "10     woman     queen\n",
       "11     woman      wise\n",
       "12       boy     young\n",
       "13       boy       man\n",
       "14     young       boy\n",
       "15     young       man\n",
       "16       man       boy\n",
       "17       man     young\n",
       "18      girl     young\n",
       "19      girl     woman\n",
       "20     young      girl\n",
       "21     young     woman\n",
       "22     woman      girl\n",
       "23     woman     young\n",
       "24    prince     young\n",
       "25    prince      king\n",
       "26     young    prince\n",
       "27     young      king\n",
       "28      king    prince\n",
       "29      king     young\n",
       "30  princess     young\n",
       "31  princess     queen\n",
       "32     young  princess\n",
       "33     young     queen\n",
       "34     queen  princess\n",
       "35     queen     young\n",
       "36       man    strong\n",
       "37    strong       man\n",
       "38     woman    pretty\n",
       "39    pretty     woman\n",
       "40    prince       boy\n",
       "41    prince      king\n",
       "42       boy    prince\n",
       "43       boy      king\n",
       "44      king    prince\n",
       "45      king       boy\n",
       "46  princess      girl\n",
       "47  princess     queen\n",
       "48      girl  princess\n",
       "49      girl     queen\n",
       "50     queen  princess\n",
       "51     queen      girl"
      ]
     },
     "execution_count": 11,
     "metadata": {},
     "output_type": "execute_result"
    }
   ],
   "source": [
    "# 데이터프레임으로 저장\n",
    "df = pd.DataFrame(data, columns=['input', 'label']) # [입력, 정답]\n",
    "df\n",
    "\n",
    "# one-hot encoing은 유사성을 모두 0으로 만들기 때문에 유사성을 확인하기 위해 dataframe으로 변환"
   ]
  },
  {
   "cell_type": "markdown",
   "id": "4657483e",
   "metadata": {},
   "source": [
    "<hr>\n",
    "\n",
    "## 텐서플로우로 word2vec 모델  구현하기"
   ]
  },
  {
   "cell_type": "code",
   "execution_count": 14,
   "id": "c745bd7d",
   "metadata": {},
   "outputs": [
    {
     "data": {
      "text/plain": [
       "12"
      ]
     },
     "execution_count": 14,
     "metadata": {},
     "output_type": "execute_result"
    }
   ],
   "source": [
    "# 전체 단어의 수\n",
    "ONE_HOT_DIM = len(words)\n",
    "ONE_HOT_DIM"
   ]
  },
  {
   "cell_type": "code",
   "execution_count": 15,
   "id": "81525269",
   "metadata": {},
   "outputs": [],
   "source": [
    "def to_one_hot_encoidng(data_point_index):\n",
    "    one_hot_encoding = np.zeros(ONE_HOT_DIM)        # np.zeros 배열의 공간을 모두 0으로 할당\n",
    "    one_hot_encoding[data_point_index] = 1\n",
    "    return one_hot_encoding"
   ]
  },
  {
   "cell_type": "code",
   "execution_count": 16,
   "id": "f394afaa",
   "metadata": {},
   "outputs": [],
   "source": [
    "X = []\n",
    "Y = []\n",
    "\n",
    "for x, y in zip(df['input'], df['label']):\n",
    "    X.append(to_one_hot_encoidng(word2int[x]))\n",
    "    Y.append(to_one_hot_encoidng(word2int[y]))"
   ]
  },
  {
   "cell_type": "code",
   "execution_count": 18,
   "id": "ff56b491",
   "metadata": {},
   "outputs": [],
   "source": [
    "# 원-핫 인코딩된 값을 배열에 저장\n",
    "X_train = np.asarray(X)\n",
    "Y_train = np.asarray(Y)"
   ]
  },
  {
   "cell_type": "code",
   "execution_count": 23,
   "id": "a7378f10",
   "metadata": {},
   "outputs": [],
   "source": [
    "encoding_dim = 2\n",
    "\n",
    "input_word = Input(shape=(ONE_HOT_DIM,))     # one-hot encoding으로 생성한 데이터의 길이가 input\n",
    "encoded = Dense(encoding_dim,                # 출력의 수\n",
    "                use_bias=False)(input_word) # 계산상의 편의를 위해 bias는 고려하지 않고 mapping\n",
    "decoded = Dense(ONE_HOT_DIM, activation='softmax')(encoded)  # 다중 분류"
   ]
  },
  {
   "cell_type": "code",
   "execution_count": 24,
   "id": "3cf91f83",
   "metadata": {},
   "outputs": [],
   "source": [
    "w2v_model = Model(input_word, decoded)"
   ]
  },
  {
   "cell_type": "code",
   "execution_count": 25,
   "id": "b6f619fa",
   "metadata": {},
   "outputs": [],
   "source": [
    "w2v_model.compile(loss='categorical_crossentropy',\n",
    "                 optimizer='adam')\n",
    "# 현재 말뭉치의 단어가 최적에 가까운 w값 찾기"
   ]
  },
  {
   "cell_type": "code",
   "execution_count": 26,
   "id": "bccc4314",
   "metadata": {},
   "outputs": [
    {
     "name": "stdout",
     "output_type": "stream",
     "text": [
      "Model: \"functional_1\"\n",
      "_________________________________________________________________\n",
      "Layer (type)                 Output Shape              Param #   \n",
      "=================================================================\n",
      "input_1 (InputLayer)         [(None, 12)]              0         \n",
      "_________________________________________________________________\n",
      "dense (Dense)                (None, 2)                 24        \n",
      "_________________________________________________________________\n",
      "dense_1 (Dense)              (None, 12)                36        \n",
      "=================================================================\n",
      "Total params: 60\n",
      "Trainable params: 60\n",
      "Non-trainable params: 0\n",
      "_________________________________________________________________\n"
     ]
    }
   ],
   "source": [
    "# 입력 12개, 출력 12개\n",
    "w2v_model.summary()"
   ]
  },
  {
   "cell_type": "code",
   "execution_count": 27,
   "id": "a79f4b20",
   "metadata": {},
   "outputs": [
    {
     "data": {
      "text/plain": [
       "<tensorflow.python.keras.callbacks.History at 0x214992f3550>"
      ]
     },
     "execution_count": 27,
     "metadata": {},
     "output_type": "execute_result"
    }
   ],
   "source": [
    "w2v_model.fit(X_train, Y_train,\n",
    "              epochs=1000,\n",
    "              shuffle=True,    # 학습할 때 입력데이터를 섞는 옵션 (과대적합 방지)\n",
    "              verbose=0        # 학습 과정 출력 X \n",
    "             )"
   ]
  },
  {
   "cell_type": "code",
   "execution_count": 30,
   "id": "79e68a8a",
   "metadata": {},
   "outputs": [
    {
     "data": {
      "text/plain": [
       "[[-0.03334778919816017, -0.22243952751159668],\n",
       " [0.013315088115632534, -1.5604771375656128],\n",
       " [-2.0791046619415283, 0.22907695174217224],\n",
       " [1.3709033727645874, -0.8717326521873474],\n",
       " [0.5832464098930359, -0.9262727499008179],\n",
       " [-0.5666799545288086, 1.4999858140945435],\n",
       " [-1.7391055822372437, 0.3775179386138916],\n",
       " [-0.1819569617509842, 1.4412164688110352],\n",
       " [0.7293712496757507, -1.3188012838363647],\n",
       " [-1.2055474519729614, 0.40385323762893677],\n",
       " [-0.5223424434661865, -1.303774356842041],\n",
       " [-0.7615867257118225, 0.982042133808136]]"
      ]
     },
     "execution_count": 30,
     "metadata": {},
     "output_type": "execute_result"
    }
   ],
   "source": [
    "# 학습이 완료된 모델의 w값 확인 위해 word2vec 추출\n",
    "vectors = w2v_model.layers[1].weights[0].numpy().tolist()\n",
    "vectors"
   ]
  },
  {
   "cell_type": "markdown",
   "id": "dc316bfe",
   "metadata": {},
   "source": [
    "<hr>\n",
    "\n",
    "## word2vec의 좌표값\n",
    "- 2d 차트에서 각 단어의 좌표값을 볼 수 있음"
   ]
  },
  {
   "cell_type": "code",
   "execution_count": 34,
   "id": "64ddef3b",
   "metadata": {},
   "outputs": [
    {
     "data": {
      "text/html": [
       "<div>\n",
       "<style scoped>\n",
       "    .dataframe tbody tr th:only-of-type {\n",
       "        vertical-align: middle;\n",
       "    }\n",
       "\n",
       "    .dataframe tbody tr th {\n",
       "        vertical-align: top;\n",
       "    }\n",
       "\n",
       "    .dataframe thead th {\n",
       "        text-align: right;\n",
       "    }\n",
       "</style>\n",
       "<table border=\"1\" class=\"dataframe\">\n",
       "  <thead>\n",
       "    <tr style=\"text-align: right;\">\n",
       "      <th></th>\n",
       "      <th>word</th>\n",
       "      <th>x1</th>\n",
       "      <th>x2</th>\n",
       "    </tr>\n",
       "  </thead>\n",
       "  <tbody>\n",
       "    <tr>\n",
       "      <th>0</th>\n",
       "      <td>young</td>\n",
       "      <td>-0.033348</td>\n",
       "      <td>-0.222440</td>\n",
       "    </tr>\n",
       "    <tr>\n",
       "      <th>1</th>\n",
       "      <td>man</td>\n",
       "      <td>0.013315</td>\n",
       "      <td>-1.560477</td>\n",
       "    </tr>\n",
       "    <tr>\n",
       "      <th>2</th>\n",
       "      <td>queen</td>\n",
       "      <td>-2.079105</td>\n",
       "      <td>0.229077</td>\n",
       "    </tr>\n",
       "    <tr>\n",
       "      <th>3</th>\n",
       "      <td>strong</td>\n",
       "      <td>1.370903</td>\n",
       "      <td>-0.871733</td>\n",
       "    </tr>\n",
       "    <tr>\n",
       "      <th>4</th>\n",
       "      <td>boy</td>\n",
       "      <td>0.583246</td>\n",
       "      <td>-0.926273</td>\n",
       "    </tr>\n",
       "    <tr>\n",
       "      <th>5</th>\n",
       "      <td>princess</td>\n",
       "      <td>-0.566680</td>\n",
       "      <td>1.499986</td>\n",
       "    </tr>\n",
       "    <tr>\n",
       "      <th>6</th>\n",
       "      <td>pretty</td>\n",
       "      <td>-1.739106</td>\n",
       "      <td>0.377518</td>\n",
       "    </tr>\n",
       "    <tr>\n",
       "      <th>7</th>\n",
       "      <td>woman</td>\n",
       "      <td>-0.181957</td>\n",
       "      <td>1.441216</td>\n",
       "    </tr>\n",
       "    <tr>\n",
       "      <th>8</th>\n",
       "      <td>king</td>\n",
       "      <td>0.729371</td>\n",
       "      <td>-1.318801</td>\n",
       "    </tr>\n",
       "    <tr>\n",
       "      <th>9</th>\n",
       "      <td>girl</td>\n",
       "      <td>-1.205547</td>\n",
       "      <td>0.403853</td>\n",
       "    </tr>\n",
       "    <tr>\n",
       "      <th>10</th>\n",
       "      <td>prince</td>\n",
       "      <td>-0.522342</td>\n",
       "      <td>-1.303774</td>\n",
       "    </tr>\n",
       "    <tr>\n",
       "      <th>11</th>\n",
       "      <td>wise</td>\n",
       "      <td>-0.761587</td>\n",
       "      <td>0.982042</td>\n",
       "    </tr>\n",
       "  </tbody>\n",
       "</table>\n",
       "</div>"
      ],
      "text/plain": [
       "        word        x1        x2\n",
       "0      young -0.033348 -0.222440\n",
       "1        man  0.013315 -1.560477\n",
       "2      queen -2.079105  0.229077\n",
       "3     strong  1.370903 -0.871733\n",
       "4        boy  0.583246 -0.926273\n",
       "5   princess -0.566680  1.499986\n",
       "6     pretty -1.739106  0.377518\n",
       "7      woman -0.181957  1.441216\n",
       "8       king  0.729371 -1.318801\n",
       "9       girl -1.205547  0.403853\n",
       "10    prince -0.522342 -1.303774\n",
       "11      wise -0.761587  0.982042"
      ]
     },
     "execution_count": 34,
     "metadata": {},
     "output_type": "execute_result"
    }
   ],
   "source": [
    "w2v_df = pd.DataFrame(vectors, columns=['x1', 'x2'])\n",
    "w2v_df['word'] = list(words)              # words에 있는 단어를 담은 열 생성\n",
    "w2v_df = w2v_df[['word', 'x1', 'x2']]              # feature의 순서 변경\n",
    "w2v_df"
   ]
  },
  {
   "cell_type": "markdown",
   "id": "15e16c8b",
   "metadata": {},
   "source": [
    "<hr>\n",
    "\n",
    "## word2vec를 2차원 공간 상에 시각화"
   ]
  },
  {
   "cell_type": "code",
   "execution_count": 40,
   "id": "3e8bf432",
   "metadata": {},
   "outputs": [
    {
     "data": {
      "image/png": "[encoded data removed]",
      "text/plain": [
       "<Figure size 640x480 with 1 Axes>"
      ]
     },
     "metadata": {},
     "output_type": "display_data"
    }
   ],
   "source": [
    "fig, ax = plt.subplots()\n",
    "\n",
    "for word, x1, x2 in zip(w2v_df['word'], w2v_df['x1'], w2v_df['x2']):\n",
    "    ax.annotate(word, (x1, x2))\n",
    "\n",
    "PADDING = 1.0  # 그래프에서 여유공간을 만들기 위해 padding 설정\n",
    "x_axis_min = np.amin(vectors, axis=0)[0] - PADDING\n",
    "y_axis_min = np.amin(vectors, axis=0)[1] - PADDING\n",
    "x_axis_max = np.amax(vectors, axis=0)[0] + PADDING\n",
    "y_axis_max = np.amax(vectors, axis=0)[1] + PADDING\n",
    "\n",
    "plt.xlim(x_axis_min, x_axis_max)\n",
    "plt.ylim(y_axis_min, y_axis_max)\n",
    "plt.rcParams['figure.figsize'] = [9, 9]"
   ]
  },
  {
   "cell_type": "code",
   "execution_count": null,
   "id": "2a6d4970",
   "metadata": {},
   "outputs": [],
   "source": []
  }
 ],
 "metadata": {
  "kernelspec": {
   "display_name": "Python 3 (ipykernel)",
   "language": "python",
   "name": "python3"
  },
  "language_info": {
   "codemirror_mode": {
    "name": "ipython",
    "version": 3
   },
   "file_extension": ".py",
   "mimetype": "text/x-python",
   "name": "python",
   "nbconvert_exporter": "python",
   "pygments_lexer": "ipython3",
   "version": "3.8.19"
  }
 },
 "nbformat": 4,
 "nbformat_minor": 5
}
