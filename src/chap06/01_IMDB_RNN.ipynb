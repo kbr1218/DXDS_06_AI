{
 "cells": [
  {
   "cell_type": "markdown",
   "id": "82f08cd5",
   "metadata": {},
   "source": [
    "# 01. RNN"
   ]
  },
  {
   "cell_type": "code",
   "execution_count": 1,
   "id": "c26570c5",
   "metadata": {},
   "outputs": [],
   "source": [
    "import numpy as np\n",
    "import matplotlib.pyplot as plt\n",
    "\n",
    "# IMDB 리뷰 데이터\n",
    "from tensorflow.keras.datasets import imdb"
   ]
  },
  {
   "cell_type": "code",
   "execution_count": 2,
   "id": "87e8976a",
   "metadata": {},
   "outputs": [
    {
     "name": "stderr",
     "output_type": "stream",
     "text": [
      "<__array_function__ internals>:5: VisibleDeprecationWarning: Creating an ndarray from ragged nested sequences (which is a list-or-tuple of lists-or-tuples-or ndarrays with different lengths or shapes) is deprecated. If you meant to do this, you must specify 'dtype=object' when creating the ndarray\n",
      "C:\\ProgramData\\anaconda3\\envs\\tf_cpu\\lib\\site-packages\\tensorflow\\python\\keras\\datasets\\imdb.py:159: VisibleDeprecationWarning: Creating an ndarray from ragged nested sequences (which is a list-or-tuple of lists-or-tuples-or ndarrays with different lengths or shapes) is deprecated. If you meant to do this, you must specify 'dtype=object' when creating the ndarray\n",
      "  x_train, y_train = np.array(xs[:idx]), np.array(labels[:idx])\n",
      "C:\\ProgramData\\anaconda3\\envs\\tf_cpu\\lib\\site-packages\\tensorflow\\python\\keras\\datasets\\imdb.py:160: VisibleDeprecationWarning: Creating an ndarray from ragged nested sequences (which is a list-or-tuple of lists-or-tuples-or ndarrays with different lengths or shapes) is deprecated. If you meant to do this, you must specify 'dtype=object' when creating the ndarray\n",
      "  x_test, y_test = np.array(xs[idx:]), np.array(labels[idx:])\n"
     ]
    }
   ],
   "source": [
    "(train_input, train_target), (test_input, test_target) = imdb.load_data(num_words=500) \n",
    "# `num_words=500`: 사전에 있는 단어 중 가장 많이 등장하는 단어 상위 500개"
   ]
  },
  {
   "cell_type": "code",
   "execution_count": 3,
   "id": "ba54f3bb",
   "metadata": {},
   "outputs": [
    {
     "name": "stdout",
     "output_type": "stream",
     "text": [
      "train_input: (25000,)\n",
      "train_target: (25000,)\n",
      "test_input: (25000,)\n",
      "test_target: (25000,)\n"
     ]
    }
   ],
   "source": [
    "print('train_input:', train_input.shape)\n",
    "print('train_target:', train_target.shape)\n",
    "print('test_input:', test_input.shape)\n",
    "print('test_target:', test_target.shape)"
   ]
  },
  {
   "cell_type": "code",
   "execution_count": 4,
   "id": "94a50245",
   "metadata": {},
   "outputs": [
    {
     "name": "stdout",
     "output_type": "stream",
     "text": [
      "218 189 141\n"
     ]
    }
   ],
   "source": [
    "# 첫 번째, 두 번째 댓글의 단어 수\n",
    "print(len(train_input[0]), len(train_input[1]), len(train_input[2]))"
   ]
  },
  {
   "cell_type": "code",
   "execution_count": 5,
   "id": "7a8d3bbd",
   "metadata": {},
   "outputs": [
    {
     "name": "stdout",
     "output_type": "stream",
     "text": [
      "[1, 14, 22, 16, 43, 2, 2, 2, 2, 65, 458, 2, 66, 2, 4, 173, 36, 256, 5, 25, 100, 43, 2, 112, 50, 2, 2, 9, 35, 480, 284, 5, 150, 4, 172, 112, 167, 2, 336, 385, 39, 4, 172, 2, 2, 17, 2, 38, 13, 447, 4, 192, 50, 16, 6, 147, 2, 19, 14, 22, 4, 2, 2, 469, 4, 22, 71, 87, 12, 16, 43, 2, 38, 76, 15, 13, 2, 4, 22, 17, 2, 17, 12, 16, 2, 18, 2, 5, 62, 386, 12, 8, 316, 8, 106, 5, 4, 2, 2, 16, 480, 66, 2, 33, 4, 130, 12, 16, 38, 2, 5, 25, 124, 51, 36, 135, 48, 25, 2, 33, 6, 22, 12, 215, 28, 77, 52, 5, 14, 407, 16, 82, 2, 8, 4, 107, 117, 2, 15, 256, 4, 2, 7, 2, 5, 2, 36, 71, 43, 2, 476, 26, 400, 317, 46, 7, 4, 2, 2, 13, 104, 88, 4, 381, 15, 297, 98, 32, 2, 56, 26, 141, 6, 194, 2, 18, 4, 226, 22, 21, 134, 476, 26, 480, 5, 144, 30, 2, 18, 51, 36, 28, 224, 92, 25, 104, 4, 226, 65, 16, 38, 2, 88, 12, 16, 283, 5, 16, 2, 113, 103, 32, 15, 16, 2, 19, 178, 32]\n"
     ]
    }
   ],
   "source": [
    "# 숫자로 변환되어있는 텍스트\n",
    "print(train_input[0])\n",
    "\n",
    "# 1: 문장의 시작을 1로 알림\n",
    "# 2: 상위 500개에 속하지 않는 단어"
   ]
  },
  {
   "cell_type": "code",
   "execution_count": 6,
   "id": "b19da84c",
   "metadata": {},
   "outputs": [
    {
     "name": "stdout",
     "output_type": "stream",
     "text": [
      "[1, 14, 47, 8, 30, 31, 7, 4, 249, 108, 7, 4, 2, 54, 61, 369, 13, 71, 149, 14, 22, 112, 4, 2, 311, 12, 16, 2, 33, 75, 43, 2, 296, 4, 86, 320, 35, 2, 19, 263, 2, 2, 4, 2, 33, 89, 78, 12, 66, 16, 4, 360, 7, 4, 58, 316, 334, 11, 4, 2, 43, 2, 2, 8, 257, 85, 2, 42, 2, 2, 83, 68, 2, 15, 36, 165, 2, 278, 36, 69, 2, 2, 8, 106, 14, 2, 2, 18, 6, 22, 12, 215, 28, 2, 40, 6, 87, 326, 23, 2, 21, 23, 22, 12, 272, 40, 57, 31, 11, 4, 22, 47, 6, 2, 51, 9, 170, 23, 2, 116, 2, 2, 13, 191, 79, 2, 89, 2, 14, 9, 8, 106, 2, 2, 35, 2, 6, 227, 7, 129, 113]\n"
     ]
    }
   ],
   "source": [
    "print(train_input[2])"
   ]
  },
  {
   "cell_type": "code",
   "execution_count": 7,
   "id": "124bcc3f",
   "metadata": {},
   "outputs": [
    {
     "name": "stdout",
     "output_type": "stream",
     "text": [
      "[1 0 0 1 0 0 1 0 1 0 1 0 0 0 0 0 1 1 0 1]\n"
     ]
    }
   ],
   "source": [
    "# target 데이터: 긍정 1, 부정 0\n",
    "print(train_target[:20])"
   ]
  },
  {
   "cell_type": "code",
   "execution_count": 8,
   "id": "583463eb",
   "metadata": {},
   "outputs": [],
   "source": [
    "# 1(문장의 시작)과 2(500개에 속하지 않는 단어)는 데이터가 아니므로 훈련 세트에서 제외\n",
    "for i in range(len(train_input)):\n",
    "    train_input[i] = [w for w in train_input[i] if w > 2]"
   ]
  },
  {
   "cell_type": "code",
   "execution_count": 9,
   "id": "c65fe438",
   "metadata": {},
   "outputs": [
    {
     "name": "stdout",
     "output_type": "stream",
     "text": [
      "[14, 22, 16, 43, 65, 458, 66, 4, 173, 36, 256, 5, 25, 100, 43, 112, 50, 9, 35, 480, 284, 5, 150, 4, 172, 112, 167, 336, 385, 39, 4, 172, 17, 38, 13, 447, 4, 192, 50, 16, 6, 147, 19, 14, 22, 4, 469, 4, 22, 71, 87, 12, 16, 43, 38, 76, 15, 13, 4, 22, 17, 17, 12, 16, 18, 5, 62, 386, 12, 8, 316, 8, 106, 5, 4, 16, 480, 66, 33, 4, 130, 12, 16, 38, 5, 25, 124, 51, 36, 135, 48, 25, 33, 6, 22, 12, 215, 28, 77, 52, 5, 14, 407, 16, 82, 8, 4, 107, 117, 15, 256, 4, 7, 5, 36, 71, 43, 476, 26, 400, 317, 46, 7, 4, 13, 104, 88, 4, 381, 15, 297, 98, 32, 56, 26, 141, 6, 194, 18, 4, 226, 22, 21, 134, 476, 26, 480, 5, 144, 30, 18, 51, 36, 28, 224, 92, 25, 104, 4, 226, 65, 16, 38, 88, 12, 16, 283, 5, 16, 113, 103, 32, 15, 16, 19, 178, 32]\n"
     ]
    }
   ],
   "source": [
    "# 1과 2가 제거되었는지 확인\n",
    "print(train_input[0])"
   ]
  },
  {
   "cell_type": "markdown",
   "id": "8e0b692b",
   "metadata": {},
   "source": [
    "<hr>\n",
    "\n",
    "### 전처리"
   ]
  },
  {
   "cell_type": "code",
   "execution_count": 10,
   "id": "0577c595",
   "metadata": {},
   "outputs": [],
   "source": [
    "from sklearn.model_selection import train_test_split"
   ]
  },
  {
   "cell_type": "code",
   "execution_count": 11,
   "id": "838bd3fc",
   "metadata": {},
   "outputs": [
    {
     "name": "stdout",
     "output_type": "stream",
     "text": [
      "train_input: (20000,)\n",
      "train_target: (20000,)\n",
      "val_input: (5000,)\n",
      "val_target: (5000,)\n"
     ]
    }
   ],
   "source": [
    "train_input, val_input, train_target, val_target = train_test_split(train_input,\n",
    "                                                                          train_target,\n",
    "                                                                          test_size=0.2,\n",
    "                                                                          random_state=42)\n",
    "\n",
    "print('train_input:', train_input.shape)\n",
    "print('train_target:', train_target.shape)\n",
    "print('val_input:', val_input.shape)\n",
    "print('val_target:', val_target.shape)"
   ]
  },
  {
   "cell_type": "code",
   "execution_count": 12,
   "id": "76dfe81e",
   "metadata": {},
   "outputs": [
    {
     "name": "stdout",
     "output_type": "stream",
     "text": [
      "20000\n"
     ]
    },
    {
     "data": {
      "text/plain": [
       "array([204, 307, 221, ..., 216,  51,  69])"
      ]
     },
     "execution_count": 12,
     "metadata": {},
     "output_type": "execute_result"
    }
   ],
   "source": [
    "# 각 댓글마다 길이 정보를 가져와서 배열에 저장\n",
    "lengths = np.array([len(x) for x in train_input])\n",
    "print(len(lengths))\n",
    "lengths  # 단어 (빈칸 포함)"
   ]
  },
  {
   "cell_type": "code",
   "execution_count": 13,
   "id": "be81baa7",
   "metadata": {},
   "outputs": [
    {
     "name": "stdout",
     "output_type": "stream",
     "text": [
      "164.67985 126.0\n"
     ]
    }
   ],
   "source": [
    "# 리뷰에 포함된 단어의 평균 길이, 중위값 >> 평균과 중위수에 차이가 있음 >> 쏠림이 있음\n",
    "print(np.mean(lengths), np.median(lengths))"
   ]
  },
  {
   "cell_type": "code",
   "execution_count": 14,
   "id": "68873cd6",
   "metadata": {},
   "outputs": [
    {
     "data": {
      "image/png": "[encoded data removed]",
      "text/plain": [
       "<Figure size 640x480 with 1 Axes>"
      ]
     },
     "metadata": {},
     "output_type": "display_data"
    }
   ],
   "source": [
    "# lengths 시각화\n",
    "plt.hist(lengths)\n",
    "\n",
    "plt.xlabel('lengths')\n",
    "plt.ylabel('frequency')\n",
    "plt.show()"
   ]
  },
  {
   "cell_type": "markdown",
   "id": "7b2206ef",
   "metadata": {},
   "source": [
    "20,000개의 데이터 중 약 11,000 개의 리뷰는 120 단어 미만  \n",
    "1,000 단어가 넘는 리뷰도 있음"
   ]
  },
  {
   "cell_type": "markdown",
   "id": "ca24331f",
   "metadata": {},
   "source": [
    "<hr>\n",
    "\n",
    "- 리뷰의 길이가 다르지만 모델 학습을 시키기 위해서는 리뷰의 길이를 일치시켜야 함\n",
    "- cf> 나이브 베이지안: 입력의 크기를 똑같이 하기 위해 리뷰에 나온 모든 단어들을 나열한 후 그 개수만큼 메모리 공간을 할당함\n",
    "``` w1 | w2 | w3 | ... | wx```  \n",
    "```  1 | 0  | 1  | ... | 0```\n",
    "\n",
    "- 실제 리뷰 데이터의 모든 단어의 메모리 공간을 할당한다면 너무 많은 낭비가 됨\n",
    "- 입력 데이터를 모두 같은 크기의 **단어 수**로 변환해주는 `pad_sequences` 함수 사용\n"
   ]
  },
  {
   "cell_type": "code",
   "execution_count": 15,
   "id": "e7822677",
   "metadata": {},
   "outputs": [],
   "source": [
    "from tensorflow.keras.preprocessing.sequence import pad_sequences"
   ]
  },
  {
   "cell_type": "code",
   "execution_count": 16,
   "id": "74b325f4",
   "metadata": {},
   "outputs": [
    {
     "data": {
      "text/plain": [
       "(20000, 100)"
      ]
     },
     "execution_count": 16,
     "metadata": {},
     "output_type": "execute_result"
    }
   ],
   "source": [
    "# 시퀀스 데이터의 길이(단어의 수)를 맞춰줌\n",
    "train_seq = pad_sequences(train_input,    # train_input에는 서로 다른 길이의 리뷰가 있고 그 리뷰들의 길이를 통일시키려 함\n",
    "                          maxlen=100,     # 대부분의 리뷰 글들이 100개 안으로 들어오기 때문에 maxlen을 100으로 설정\n",
    "                          padding='post')\n",
    "train_seq.shape"
   ]
  },
  {
   "cell_type": "markdown",
   "id": "009d8530",
   "metadata": {},
   "source": [
    "- `maxlen=100`\n",
    "    - 100 단어가 넘지 않는다면 >> 나머지 데이터는 0으로 채움\n",
    "    - 100 단어가 넘어가는 리뷰가 있다면 >> 100 번째 단어 이후는 모두 삭제\n",
    "- `padding= pre | post`\n",
    "    - 100 단어가 넘는다면, 앞을 자를지, 뒤를 자를지 설정할 수 있음\n",
    "    - `pre`: 앞 부분을 버리고 뒷 부분을 남김\n",
    "    - `post`: 뒷 부분을 버리고 앞 부분을 남김"
   ]
  },
  {
   "cell_type": "code",
   "execution_count": 17,
   "id": "587c308d",
   "metadata": {},
   "outputs": [
    {
     "data": {
      "text/plain": [
       "array([ 14,   9,  34, 230,   4, 249,  20,  13,  28, 126, 110,  11,   4,\n",
       "       438, 100,  24,  18,  12,   8, 130,   8,  97, 433,  12,   9, 348,\n",
       "         6,  38,  25,  81,  24,  67, 259, 397, 324,  43,   8,   4,  60,\n",
       "       397,  16,  46,  99, 111, 139,  71,   8,  11,   4,  17,  13, 104,\n",
       "         4,  12,  62, 116,  16,  87,  21,  15,   5,   4,  85,  37, 299,\n",
       "       191,  60,  16,  10,  10,  13,  62,  24, 106,  14,  18, 174,   5,\n",
       "        13,  32, 409,  37, 332,  14,   8,  81,  43,   4, 172,  25,  28,\n",
       "        77,   0,   0,   0,   0,   0,   0,   0,   0])"
      ]
     },
     "execution_count": 17,
     "metadata": {},
     "output_type": "execute_result"
    }
   ],
   "source": [
    "# 100 단어로 설정한 데이터 확인\n",
    "train_seq[101]  "
   ]
  },
  {
   "cell_type": "code",
   "execution_count": 18,
   "id": "9726aece",
   "metadata": {},
   "outputs": [
    {
     "data": {
      "text/plain": [
       "(5000, 100)"
      ]
     },
     "execution_count": 18,
     "metadata": {},
     "output_type": "execute_result"
    }
   ],
   "source": [
    "# 검증 데이터도 똑같이 적용\n",
    "val_seq = pad_sequences(val_input, \n",
    "                        maxlen=100,\n",
    "                        padding='post')\n",
    "val_seq.shape"
   ]
  },
  {
   "cell_type": "markdown",
   "id": "da0398fc",
   "metadata": {},
   "source": [
    "<hr>\n",
    "\n",
    "### 순환 신경망 만들기"
   ]
  },
  {
   "cell_type": "code",
   "execution_count": 19,
   "id": "cf38c69c",
   "metadata": {},
   "outputs": [],
   "source": [
    "from tensorflow import keras"
   ]
  },
  {
   "cell_type": "code",
   "execution_count": 20,
   "id": "eaaac686",
   "metadata": {},
   "outputs": [],
   "source": [
    "# 모델 생성\n",
    "model = keras.Sequential()"
   ]
  },
  {
   "cell_type": "code",
   "execution_count": null,
   "id": "9ed5ee18",
   "metadata": {},
   "outputs": [],
   "source": [
    "# ** 02_Word2Vec_tensorflow.ipynb에서 구현한 내용이 이 함수에 들어있음\n",
    "# 원-핫 인코딩보다 embedding으로 전처리를 하는 것이 __하기 때문\n",
    "model.add(keras.layers.Embedding(500, 16, input_length=100))   # 단어 500개, 출력값 임의의 수 16\n",
    "# 임베딩은 알고리즘 특성 상 인풋과 출력의 개수가 같음"
   ]
  },
  {
   "cell_type": "code",
   "execution_count": 21,
   "id": "1cdedf80",
   "metadata": {},
   "outputs": [],
   "source": [
    "# 신경망 만들기\n",
    "model.add(keras.layers.SimpleRNN(8,                       # 사용할 뉴런의 개수 (정해진 값 없음)\n",
    "                                 input_shape=(100, 500))) # 입력 데이터에 대한 shape (고정된 크기의 100개의 단어 안에 500개 단어가 있음 \n",
    "model.add(keras.layers.Dense(units = 1,                   # 긍/부정 출력 하나\n",
    "                             activation='sigmoid'))       # 다중분류가 아니라서 출력층에서 sigmoid 활성화 함수 사용"
   ]
  },
  {
   "cell_type": "markdown",
   "id": "9fd4adc1",
   "metadata": {},
   "source": [
    "(numpy 배열과 tensorflow의 버전 충돌이 있어 호환되도록 numpy를 다운그레이드 시킴 >> 1.19.5)"
   ]
  },
  {
   "cell_type": "code",
   "execution_count": 22,
   "id": "70bc6b59",
   "metadata": {},
   "outputs": [
    {
     "name": "stdout",
     "output_type": "stream",
     "text": [
      "(20000, 100, 500)\n",
      "(5000, 100, 500)\n",
      "(20000,)\n",
      "(5000,)\n"
     ]
    }
   ],
   "source": [
    "train_oh = keras.utils.to_categorical(train_seq)\n",
    "val_oh = keras.utils.to_categorical(val_seq)\n",
    "print(train_oh.shape)\n",
    "print(val_oh.shape)\n",
    "print(train_target.shape)\n",
    "print(val_target.shape)"
   ]
  },
  {
   "cell_type": "code",
   "execution_count": 23,
   "id": "501103b5",
   "metadata": {},
   "outputs": [
    {
     "name": "stdout",
     "output_type": "stream",
     "text": [
      "Model: \"sequential\"\n",
      "_________________________________________________________________\n",
      "Layer (type)                 Output Shape              Param #   \n",
      "=================================================================\n",
      "simple_rnn (SimpleRNN)       (None, 8)                 4072      \n",
      "_________________________________________________________________\n",
      "dense (Dense)                (None, 1)                 9         \n",
      "=================================================================\n",
      "Total params: 4,081\n",
      "Trainable params: 4,081\n",
      "Non-trainable params: 0\n",
      "_________________________________________________________________\n"
     ]
    }
   ],
   "source": [
    "model.summary()\n",
    "\n",
    "# 뉴런, 망: 8 * 입력(한 단어 당 500개) + bias 8 == 4008\n",
    "# 내부에서 재귀 8 * 8 = 64\n",
    "# w 8개 + 최종 출력 1개"
   ]
  },
  {
   "cell_type": "code",
   "execution_count": 24,
   "id": "27a1e5a5",
   "metadata": {},
   "outputs": [],
   "source": [
    "# 모델학습\n",
    "model.compile(loss='binary_crossentropy',  # 이진분류\n",
    "              optimizer=keras.optimizers.Adam(learning_rate=1e-4),\n",
    "              metrics='accuracy')"
   ]
  },
  {
   "cell_type": "code",
   "execution_count": 25,
   "id": "bda70d47",
   "metadata": {},
   "outputs": [],
   "source": [
    "# 모델을 파일의 형태로 저장한 후 새로운 데이터가 들어왔을 때 모델을 다시 학습시키지 않고 바로 적용하기\n",
    "check_cb = keras.callbacks.ModelCheckpoint('best_RNN_model.h5',   # 저장할 모델의 파일 이름\n",
    "                                           save_best_only=True)  # 가장 좋은 성능을 보인 가중치만 저장\n",
    "early_stopping = keras.callbacks.EarlyStopping(patience=3,                  # 모델이 더이상 개선되지 않을 때 바로 멈추지 않고 몇 번의 에포크를 기다릴지 설정\n",
    "                                               restore_best_weights=True)  # 모델 학습이 중단되었을 때 값이 아닌 그 전에 최솟값이 나왔다면 그 값으로 저장"
   ]
  },
  {
   "cell_type": "code",
   "execution_count": 26,
   "id": "6269eb95",
   "metadata": {},
   "outputs": [
    {
     "name": "stdout",
     "output_type": "stream",
     "text": [
      "Epoch 1/100\n",
      "313/313 [==============================] - 6s 20ms/step - loss: 0.6987 - accuracy: 0.4931 - val_loss: 0.6971 - val_accuracy: 0.4954\n",
      "Epoch 2/100\n",
      "313/313 [==============================] - 6s 18ms/step - loss: 0.6954 - accuracy: 0.5042 - val_loss: 0.6949 - val_accuracy: 0.5106\n",
      "Epoch 3/100\n",
      "313/313 [==============================] - 5s 16ms/step - loss: 0.6935 - accuracy: 0.5146 - val_loss: 0.6941 - val_accuracy: 0.5136\n",
      "Epoch 4/100\n",
      "313/313 [==============================] - 5s 16ms/step - loss: 0.6923 - accuracy: 0.5183 - val_loss: 0.6935 - val_accuracy: 0.5230\n",
      "Epoch 5/100\n",
      "313/313 [==============================] - 5s 16ms/step - loss: 0.6913 - accuracy: 0.5271 - val_loss: 0.6929 - val_accuracy: 0.5258\n",
      "Epoch 6/100\n",
      "313/313 [==============================] - 5s 16ms/step - loss: 0.6902 - accuracy: 0.5367 - val_loss: 0.6924 - val_accuracy: 0.5272\n",
      "Epoch 7/100\n",
      "313/313 [==============================] - 5s 16ms/step - loss: 0.6892 - accuracy: 0.5405 - val_loss: 0.6917 - val_accuracy: 0.5348\n",
      "Epoch 8/100\n",
      "313/313 [==============================] - 5s 16ms/step - loss: 0.6880 - accuracy: 0.5461 - val_loss: 0.6912 - val_accuracy: 0.5394\n",
      "Epoch 9/100\n",
      "313/313 [==============================] - 5s 16ms/step - loss: 0.6868 - accuracy: 0.5515 - val_loss: 0.6907 - val_accuracy: 0.5422\n",
      "Epoch 10/100\n",
      "313/313 [==============================] - 5s 16ms/step - loss: 0.6855 - accuracy: 0.5567 - val_loss: 0.6900 - val_accuracy: 0.5412\n",
      "Epoch 11/100\n",
      "313/313 [==============================] - 5s 16ms/step - loss: 0.6840 - accuracy: 0.5622 - val_loss: 0.6891 - val_accuracy: 0.5456\n",
      "Epoch 12/100\n",
      "313/313 [==============================] - 5s 15ms/step - loss: 0.6780 - accuracy: 0.5890 - val_loss: 0.6779 - val_accuracy: 0.5896\n",
      "Epoch 13/100\n",
      "313/313 [==============================] - 5s 15ms/step - loss: 0.6624 - accuracy: 0.6356 - val_loss: 0.6604 - val_accuracy: 0.6358\n",
      "Epoch 14/100\n",
      "313/313 [==============================] - 5s 15ms/step - loss: 0.6399 - accuracy: 0.6800 - val_loss: 0.6375 - val_accuracy: 0.6754\n",
      "Epoch 15/100\n",
      "313/313 [==============================] - 5s 16ms/step - loss: 0.6168 - accuracy: 0.7074 - val_loss: 0.6154 - val_accuracy: 0.7042\n",
      "Epoch 16/100\n",
      "313/313 [==============================] - 5s 15ms/step - loss: 0.5937 - accuracy: 0.7296 - val_loss: 0.5944 - val_accuracy: 0.7232\n",
      "Epoch 17/100\n",
      "313/313 [==============================] - 5s 16ms/step - loss: 0.5717 - accuracy: 0.7451 - val_loss: 0.5774 - val_accuracy: 0.7312\n",
      "Epoch 18/100\n",
      "313/313 [==============================] - 5s 16ms/step - loss: 0.5517 - accuracy: 0.7592 - val_loss: 0.5611 - val_accuracy: 0.7370\n",
      "Epoch 19/100\n",
      "313/313 [==============================] - 5s 15ms/step - loss: 0.5343 - accuracy: 0.7710 - val_loss: 0.5465 - val_accuracy: 0.7494\n",
      "Epoch 20/100\n",
      "313/313 [==============================] - 5s 15ms/step - loss: 0.5179 - accuracy: 0.7798 - val_loss: 0.5333 - val_accuracy: 0.7572\n",
      "Epoch 21/100\n",
      "313/313 [==============================] - 5s 16ms/step - loss: 0.5034 - accuracy: 0.7880 - val_loss: 0.5236 - val_accuracy: 0.7568\n",
      "Epoch 22/100\n",
      "313/313 [==============================] - 5s 15ms/step - loss: 0.4906 - accuracy: 0.7925 - val_loss: 0.5111 - val_accuracy: 0.7696\n",
      "Epoch 23/100\n",
      "313/313 [==============================] - 5s 16ms/step - loss: 0.4789 - accuracy: 0.7979 - val_loss: 0.5018 - val_accuracy: 0.7732\n",
      "Epoch 24/100\n",
      "313/313 [==============================] - 5s 16ms/step - loss: 0.4683 - accuracy: 0.8036 - val_loss: 0.4991 - val_accuracy: 0.7714\n",
      "Epoch 25/100\n",
      "313/313 [==============================] - 5s 16ms/step - loss: 0.4591 - accuracy: 0.8065 - val_loss: 0.4882 - val_accuracy: 0.7786\n",
      "Epoch 26/100\n",
      "313/313 [==============================] - 5s 16ms/step - loss: 0.4498 - accuracy: 0.8107 - val_loss: 0.4843 - val_accuracy: 0.7780\n",
      "Epoch 27/100\n",
      "313/313 [==============================] - 5s 16ms/step - loss: 0.4426 - accuracy: 0.8141 - val_loss: 0.4775 - val_accuracy: 0.7832\n",
      "Epoch 28/100\n",
      "313/313 [==============================] - 5s 16ms/step - loss: 0.4350 - accuracy: 0.8161 - val_loss: 0.4733 - val_accuracy: 0.7836\n",
      "Epoch 29/100\n",
      "313/313 [==============================] - 5s 16ms/step - loss: 0.4287 - accuracy: 0.8192 - val_loss: 0.4687 - val_accuracy: 0.7868\n",
      "Epoch 30/100\n",
      "313/313 [==============================] - 5s 16ms/step - loss: 0.4227 - accuracy: 0.8232 - val_loss: 0.4671 - val_accuracy: 0.7880\n",
      "Epoch 31/100\n",
      "313/313 [==============================] - 5s 15ms/step - loss: 0.4172 - accuracy: 0.8256 - val_loss: 0.4645 - val_accuracy: 0.7886\n",
      "Epoch 32/100\n",
      "313/313 [==============================] - 5s 15ms/step - loss: 0.4123 - accuracy: 0.8266 - val_loss: 0.4614 - val_accuracy: 0.7936\n",
      "Epoch 33/100\n",
      "313/313 [==============================] - 5s 16ms/step - loss: 0.4083 - accuracy: 0.8292 - val_loss: 0.4576 - val_accuracy: 0.7912\n",
      "Epoch 34/100\n",
      "313/313 [==============================] - 5s 16ms/step - loss: 0.4035 - accuracy: 0.8309 - val_loss: 0.4590 - val_accuracy: 0.7916\n",
      "Epoch 35/100\n",
      "313/313 [==============================] - 5s 16ms/step - loss: 0.4000 - accuracy: 0.8332 - val_loss: 0.4528 - val_accuracy: 0.7936\n",
      "Epoch 36/100\n",
      "313/313 [==============================] - 5s 16ms/step - loss: 0.3963 - accuracy: 0.8336 - val_loss: 0.4523 - val_accuracy: 0.7954\n",
      "Epoch 37/100\n",
      "313/313 [==============================] - 5s 15ms/step - loss: 0.3931 - accuracy: 0.8349 - val_loss: 0.4508 - val_accuracy: 0.7940\n",
      "Epoch 38/100\n",
      "313/313 [==============================] - 5s 15ms/step - loss: 0.3900 - accuracy: 0.8349 - val_loss: 0.4527 - val_accuracy: 0.7972\n",
      "Epoch 39/100\n",
      "313/313 [==============================] - 5s 15ms/step - loss: 0.3876 - accuracy: 0.8375 - val_loss: 0.4505 - val_accuracy: 0.7972\n",
      "Epoch 40/100\n",
      "313/313 [==============================] - 5s 15ms/step - loss: 0.3847 - accuracy: 0.8394 - val_loss: 0.4486 - val_accuracy: 0.7970\n",
      "Epoch 41/100\n",
      "313/313 [==============================] - 5s 16ms/step - loss: 0.3823 - accuracy: 0.8407 - val_loss: 0.4479 - val_accuracy: 0.7982\n",
      "Epoch 42/100\n",
      "313/313 [==============================] - 5s 15ms/step - loss: 0.3792 - accuracy: 0.8425 - val_loss: 0.4519 - val_accuracy: 0.7972\n",
      "Epoch 43/100\n",
      "313/313 [==============================] - 5s 15ms/step - loss: 0.3776 - accuracy: 0.8418 - val_loss: 0.4517 - val_accuracy: 0.7976\n",
      "Epoch 44/100\n",
      "313/313 [==============================] - 5s 15ms/step - loss: 0.3755 - accuracy: 0.8431 - val_loss: 0.4498 - val_accuracy: 0.7990\n"
     ]
    }
   ],
   "source": [
    "# 모델 저장\n",
    "history = model.fit(train_oh,\n",
    "                    train_target,\n",
    "                    epochs=100,\n",
    "                    batch_size=64,\n",
    "                    validation_data=(val_oh, val_target),\n",
    "                    callbacks=[check_cb, early_stopping]\n",
    "                   )"
   ]
  },
  {
   "cell_type": "code",
   "execution_count": 28,
   "id": "b4c54d16",
   "metadata": {},
   "outputs": [
    {
     "data": {
      "image/png": "[encoded data removed]",
      "text/plain": [
       "<Figure size 640x480 with 1 Axes>"
      ]
     },
     "metadata": {},
     "output_type": "display_data"
    }
   ],
   "source": [
    "# 변수 history의 history 필드\n",
    "plt.plot(history.history['loss'])\n",
    "plt.plot(history.history['val_loss'])\n",
    "plt.xlabel('epochs')\n",
    "plt.ylabel('loss')\n",
    "plt.legend(['train', 'val'])\n",
    "plt.show()"
   ]
  },
  {
   "cell_type": "code",
   "execution_count": null,
   "id": "997be364",
   "metadata": {},
   "outputs": [],
   "source": []
  }
 ],
 "metadata": {
  "kernelspec": {
   "display_name": "Python 3 (ipykernel)",
   "language": "python",
   "name": "python3"
  },
  "language_info": {
   "codemirror_mode": {
    "name": "ipython",
    "version": 3
   },
   "file_extension": ".py",
   "mimetype": "text/x-python",
   "name": "python",
   "nbconvert_exporter": "python",
   "pygments_lexer": "ipython3",
   "version": "3.8.19"
  }
 },
 "nbformat": 4,
 "nbformat_minor": 5
}
