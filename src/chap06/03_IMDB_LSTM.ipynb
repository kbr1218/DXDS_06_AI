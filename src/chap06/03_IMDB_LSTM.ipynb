{
 "cells": [
  {
   "cell_type": "markdown",
   "id": "98e570b6",
   "metadata": {},
   "source": [
    "# 03. IMDB LSTM (Long Short-Term Memory)"
   ]
  },
  {
   "cell_type": "code",
   "execution_count": 1,
   "id": "c7e5020c",
   "metadata": {},
   "outputs": [],
   "source": [
    "import numpy as np\n",
    "import matplotlib.pyplot as plt\n",
    "\n",
    "# IMDB 리뷰 데이터\n",
    "from tensorflow.keras.datasets import imdb"
   ]
  },
  {
   "cell_type": "code",
   "execution_count": 32,
   "id": "f0666766",
   "metadata": {},
   "outputs": [
    {
     "name": "stderr",
     "output_type": "stream",
     "text": [
      "<__array_function__ internals>:5: VisibleDeprecationWarning: Creating an ndarray from ragged nested sequences (which is a list-or-tuple of lists-or-tuples-or ndarrays with different lengths or shapes) is deprecated. If you meant to do this, you must specify 'dtype=object' when creating the ndarray\n",
      "C:\\ProgramData\\anaconda3\\envs\\tf_cpu\\lib\\site-packages\\tensorflow\\python\\keras\\datasets\\imdb.py:159: VisibleDeprecationWarning: Creating an ndarray from ragged nested sequences (which is a list-or-tuple of lists-or-tuples-or ndarrays with different lengths or shapes) is deprecated. If you meant to do this, you must specify 'dtype=object' when creating the ndarray\n",
      "  x_train, y_train = np.array(xs[:idx]), np.array(labels[:idx])\n",
      "C:\\ProgramData\\anaconda3\\envs\\tf_cpu\\lib\\site-packages\\tensorflow\\python\\keras\\datasets\\imdb.py:160: VisibleDeprecationWarning: Creating an ndarray from ragged nested sequences (which is a list-or-tuple of lists-or-tuples-or ndarrays with different lengths or shapes) is deprecated. If you meant to do this, you must specify 'dtype=object' when creating the ndarray\n",
      "  x_test, y_test = np.array(xs[idx:]), np.array(labels[idx:])\n"
     ]
    }
   ],
   "source": [
    "(train_input, train_target), (test_input, test_target) = imdb.load_data(num_words=500) \n",
    "# `num_words=500`: 사전에 있는 단어 중 가장 많이 등장하는 단어 상위 500개"
   ]
  },
  {
   "cell_type": "code",
   "execution_count": 33,
   "id": "c918ba22",
   "metadata": {},
   "outputs": [
    {
     "name": "stdout",
     "output_type": "stream",
     "text": [
      "train_input: (25000,)\n",
      "train_target: (25000,)\n",
      "test_input: (25000,)\n",
      "test_target: (25000,)\n"
     ]
    }
   ],
   "source": [
    "print('train_input:', train_input.shape)\n",
    "print('train_target:', train_target.shape)\n",
    "print('test_input:', test_input.shape)\n",
    "print('test_target:', test_target.shape)"
   ]
  },
  {
   "cell_type": "code",
   "execution_count": 34,
   "id": "3a3f6ca3",
   "metadata": {},
   "outputs": [
    {
     "name": "stdout",
     "output_type": "stream",
     "text": [
      "218 189 141\n"
     ]
    }
   ],
   "source": [
    "# 첫 번째, 두 번째 댓글의 단어 수\n",
    "print(len(train_input[0]), len(train_input[1]), len(train_input[2]))"
   ]
  },
  {
   "cell_type": "code",
   "execution_count": 35,
   "id": "03364b40",
   "metadata": {},
   "outputs": [
    {
     "name": "stdout",
     "output_type": "stream",
     "text": [
      "[1, 14, 22, 16, 43, 2, 2, 2, 2, 65, 458, 2, 66, 2, 4, 173, 36, 256, 5, 25, 100, 43, 2, 112, 50, 2, 2, 9, 35, 480, 284, 5, 150, 4, 172, 112, 167, 2, 336, 385, 39, 4, 172, 2, 2, 17, 2, 38, 13, 447, 4, 192, 50, 16, 6, 147, 2, 19, 14, 22, 4, 2, 2, 469, 4, 22, 71, 87, 12, 16, 43, 2, 38, 76, 15, 13, 2, 4, 22, 17, 2, 17, 12, 16, 2, 18, 2, 5, 62, 386, 12, 8, 316, 8, 106, 5, 4, 2, 2, 16, 480, 66, 2, 33, 4, 130, 12, 16, 38, 2, 5, 25, 124, 51, 36, 135, 48, 25, 2, 33, 6, 22, 12, 215, 28, 77, 52, 5, 14, 407, 16, 82, 2, 8, 4, 107, 117, 2, 15, 256, 4, 2, 7, 2, 5, 2, 36, 71, 43, 2, 476, 26, 400, 317, 46, 7, 4, 2, 2, 13, 104, 88, 4, 381, 15, 297, 98, 32, 2, 56, 26, 141, 6, 194, 2, 18, 4, 226, 22, 21, 134, 476, 26, 480, 5, 144, 30, 2, 18, 51, 36, 28, 224, 92, 25, 104, 4, 226, 65, 16, 38, 2, 88, 12, 16, 283, 5, 16, 2, 113, 103, 32, 15, 16, 2, 19, 178, 32]\n"
     ]
    }
   ],
   "source": [
    "# 숫자로 변환되어있는 텍스트\n",
    "print(train_input[0])\n",
    "\n",
    "# 1: 문장의 시작을 1로 알림\n",
    "# 2: 상위 500개에 속하지 않는 단어"
   ]
  },
  {
   "cell_type": "code",
   "execution_count": 36,
   "id": "f9e527cb",
   "metadata": {},
   "outputs": [
    {
     "name": "stdout",
     "output_type": "stream",
     "text": [
      "[1 0 0 1 0 0 1 0 1 0 1 0 0 0 0 0 1 1 0 1]\n"
     ]
    }
   ],
   "source": [
    "# target 데이터: 긍정 1, 부정 0\n",
    "print(train_target[:20])"
   ]
  },
  {
   "cell_type": "code",
   "execution_count": 37,
   "id": "9ecf371a",
   "metadata": {},
   "outputs": [],
   "source": [
    "# 1(문장의 시작)과 2(500개에 속하지 않는 단어)는 데이터가 아니므로 훈련 세트에서 제외\n",
    "for i in range(len(train_input)):\n",
    "    train_input[i] = [w for w in train_input[i] if w > 2]"
   ]
  },
  {
   "cell_type": "code",
   "execution_count": 38,
   "id": "be1eada2",
   "metadata": {},
   "outputs": [
    {
     "name": "stdout",
     "output_type": "stream",
     "text": [
      "[14, 22, 16, 43, 65, 458, 66, 4, 173, 36, 256, 5, 25, 100, 43, 112, 50, 9, 35, 480, 284, 5, 150, 4, 172, 112, 167, 336, 385, 39, 4, 172, 17, 38, 13, 447, 4, 192, 50, 16, 6, 147, 19, 14, 22, 4, 469, 4, 22, 71, 87, 12, 16, 43, 38, 76, 15, 13, 4, 22, 17, 17, 12, 16, 18, 5, 62, 386, 12, 8, 316, 8, 106, 5, 4, 16, 480, 66, 33, 4, 130, 12, 16, 38, 5, 25, 124, 51, 36, 135, 48, 25, 33, 6, 22, 12, 215, 28, 77, 52, 5, 14, 407, 16, 82, 8, 4, 107, 117, 15, 256, 4, 7, 5, 36, 71, 43, 476, 26, 400, 317, 46, 7, 4, 13, 104, 88, 4, 381, 15, 297, 98, 32, 56, 26, 141, 6, 194, 18, 4, 226, 22, 21, 134, 476, 26, 480, 5, 144, 30, 18, 51, 36, 28, 224, 92, 25, 104, 4, 226, 65, 16, 38, 88, 12, 16, 283, 5, 16, 113, 103, 32, 15, 16, 19, 178, 32]\n"
     ]
    }
   ],
   "source": [
    "# 1과 2가 제거되었는지 확인\n",
    "print(train_input[0])"
   ]
  },
  {
   "cell_type": "markdown",
   "id": "82efe775",
   "metadata": {},
   "source": [
    "<br><hr>\n",
    "\n",
    "### 전처리"
   ]
  },
  {
   "cell_type": "code",
   "execution_count": 39,
   "id": "bc29fb7e",
   "metadata": {},
   "outputs": [],
   "source": [
    "from sklearn.model_selection import train_test_split"
   ]
  },
  {
   "cell_type": "code",
   "execution_count": 40,
   "id": "858356c6",
   "metadata": {},
   "outputs": [
    {
     "name": "stdout",
     "output_type": "stream",
     "text": [
      "train_input: (20000,)\n",
      "train_target: (20000,)\n",
      "val_input: (5000,)\n",
      "val_target: (5000,)\n"
     ]
    }
   ],
   "source": [
    "train_input, val_input, train_target, val_target = train_test_split(train_input,\n",
    "                                                                          train_target,\n",
    "                                                                          test_size=0.2,\n",
    "                                                                          random_state=42)\n",
    "\n",
    "print('train_input:', train_input.shape)\n",
    "print('train_target:', train_target.shape)\n",
    "print('val_input:', val_input.shape)\n",
    "print('val_target:', val_target.shape)"
   ]
  },
  {
   "cell_type": "code",
   "execution_count": 41,
   "id": "5bc53706",
   "metadata": {},
   "outputs": [
    {
     "name": "stdout",
     "output_type": "stream",
     "text": [
      "20000\n"
     ]
    },
    {
     "data": {
      "text/plain": [
       "array([204, 307, 221, ..., 216,  51,  69])"
      ]
     },
     "execution_count": 41,
     "metadata": {},
     "output_type": "execute_result"
    }
   ],
   "source": [
    "# 각 댓글마다 길이 정보를 가져와서 배열에 저장\n",
    "lengths = np.array([len(x) for x in train_input])\n",
    "print(len(lengths))\n",
    "lengths  # 단어 (빈칸 포함)"
   ]
  },
  {
   "cell_type": "code",
   "execution_count": 42,
   "id": "c15d10d6",
   "metadata": {},
   "outputs": [
    {
     "name": "stdout",
     "output_type": "stream",
     "text": [
      "164.67985 126.0\n"
     ]
    }
   ],
   "source": [
    "# 리뷰에 포함된 단어의 평균 길이, 중위값 >> 평균과 중위수에 차이가 있음 >> 쏠림이 있음\n",
    "print(np.mean(lengths), np.median(lengths))"
   ]
  },
  {
   "cell_type": "code",
   "execution_count": 43,
   "id": "c026a375",
   "metadata": {},
   "outputs": [
    {
     "data": {
      "image/png": "[encoded data removed]",
      "text/plain": [
       "<Figure size 640x480 with 1 Axes>"
      ]
     },
     "metadata": {},
     "output_type": "display_data"
    }
   ],
   "source": [
    "# lengths 시각화\n",
    "plt.hist(lengths)\n",
    "\n",
    "plt.xlabel('lengths')\n",
    "plt.ylabel('frequency')\n",
    "plt.show()"
   ]
  },
  {
   "cell_type": "code",
   "execution_count": 44,
   "id": "28fa5d5d",
   "metadata": {},
   "outputs": [],
   "source": [
    "from tensorflow.keras.preprocessing.sequence import pad_sequences"
   ]
  },
  {
   "cell_type": "code",
   "execution_count": 45,
   "id": "82467822",
   "metadata": {},
   "outputs": [
    {
     "data": {
      "text/plain": [
       "(20000, 100)"
      ]
     },
     "execution_count": 45,
     "metadata": {},
     "output_type": "execute_result"
    }
   ],
   "source": [
    "# 시퀀스 데이터의 길이(단어의 수)를 맞춰줌\n",
    "train_seq = pad_sequences(train_input,    # train_input에는 서로 다른 길이의 리뷰가 있고 그 리뷰들의 길이를 통일시키려 함\n",
    "                          maxlen=100,     # 대부분의 리뷰 글들이 100개 안으로 들어오기 때문에 maxlen을 100으로 설정\n",
    "                          padding='post')\n",
    "train_seq.shape"
   ]
  },
  {
   "cell_type": "code",
   "execution_count": 46,
   "id": "06ce8543",
   "metadata": {},
   "outputs": [
    {
     "data": {
      "text/plain": [
       "array([ 14,   9,  34, 230,   4, 249,  20,  13,  28, 126, 110,  11,   4,\n",
       "       438, 100,  24,  18,  12,   8, 130,   8,  97, 433,  12,   9, 348,\n",
       "         6,  38,  25,  81,  24,  67, 259, 397, 324,  43,   8,   4,  60,\n",
       "       397,  16,  46,  99, 111, 139,  71,   8,  11,   4,  17,  13, 104,\n",
       "         4,  12,  62, 116,  16,  87,  21,  15,   5,   4,  85,  37, 299,\n",
       "       191,  60,  16,  10,  10,  13,  62,  24, 106,  14,  18, 174,   5,\n",
       "        13,  32, 409,  37, 332,  14,   8,  81,  43,   4, 172,  25,  28,\n",
       "        77,   0,   0,   0,   0,   0,   0,   0,   0])"
      ]
     },
     "execution_count": 46,
     "metadata": {},
     "output_type": "execute_result"
    }
   ],
   "source": [
    "# 100 단어로 설정한 데이터 확인\n",
    "train_seq[101]  "
   ]
  },
  {
   "cell_type": "code",
   "execution_count": 47,
   "id": "c7bdb9b9",
   "metadata": {},
   "outputs": [
    {
     "data": {
      "text/plain": [
       "(5000, 100)"
      ]
     },
     "execution_count": 47,
     "metadata": {},
     "output_type": "execute_result"
    }
   ],
   "source": [
    "# 검증 데이터도 똑같이 적용\n",
    "val_seq = pad_sequences(val_input, \n",
    "                        maxlen=100,\n",
    "                        padding='post')\n",
    "val_seq.shape"
   ]
  },
  {
   "cell_type": "markdown",
   "id": "beb58a24",
   "metadata": {},
   "source": [
    "<br><hr>\n",
    "\n",
    "### 순환 신경망 만들기"
   ]
  },
  {
   "cell_type": "code",
   "execution_count": 48,
   "id": "f6aef109",
   "metadata": {},
   "outputs": [],
   "source": [
    "from tensorflow import keras"
   ]
  },
  {
   "cell_type": "code",
   "execution_count": 49,
   "id": "e1902bcf",
   "metadata": {},
   "outputs": [],
   "source": [
    "# 모델 생성\n",
    "model = keras.Sequential()\n",
    "\n",
    "# 자연어에 대한 추가적인 전처리 수행\n",
    "model.add(keras.layers.Embedding(500, 16, input_length=100))"
   ]
  },
  {
   "cell_type": "code",
   "execution_count": 50,
   "id": "351b87a0",
   "metadata": {},
   "outputs": [],
   "source": [
    "# LSTM 신경망 만들기\n",
    "model.add(keras.layers.LSTM(8,                          # 사용할 뉴런의 개수 (정해진 값 없음)\n",
    "                            input_shape=(100, 500)))    # 입력 데이터에 대한 shape (고정된 크기의 100개의 단어 안에 500개 단어가 있음 \n",
    "model.add(keras.layers.Dense(units = 1,                 # 긍/부정 출력 하나\n",
    "                             activation='sigmoid'))     # 다중분류가 아니라서 출력층에서 sigmoid 활성화 함수 사용"
   ]
  },
  {
   "cell_type": "code",
   "execution_count": 51,
   "id": "b481f125",
   "metadata": {},
   "outputs": [
    {
     "name": "stdout",
     "output_type": "stream",
     "text": [
      "Model: \"sequential_1\"\n",
      "_________________________________________________________________\n",
      "Layer (type)                 Output Shape              Param #   \n",
      "=================================================================\n",
      "embedding_1 (Embedding)      (None, 100, 16)           8000      \n",
      "_________________________________________________________________\n",
      "lstm_1 (LSTM)                (None, 8)                 800       \n",
      "_________________________________________________________________\n",
      "dense_1 (Dense)              (None, 1)                 9         \n",
      "=================================================================\n",
      "Total params: 8,809\n",
      "Trainable params: 8,809\n",
      "Non-trainable params: 0\n",
      "_________________________________________________________________\n"
     ]
    }
   ],
   "source": [
    "model.summary()"
   ]
  },
  {
   "cell_type": "code",
   "execution_count": 52,
   "id": "b9f4c2f5",
   "metadata": {},
   "outputs": [],
   "source": [
    "# 모델학습\n",
    "model.compile(loss='binary_crossentropy',  # 이진분류\n",
    "              optimizer=keras.optimizers.Adam(learning_rate=1e-4),\n",
    "              metrics='accuracy')"
   ]
  },
  {
   "cell_type": "code",
   "execution_count": 53,
   "id": "5e93ef62",
   "metadata": {},
   "outputs": [],
   "source": [
    "# 모델을 파일의 형태로 저장한 후 새로운 데이터가 들어왔을 때 모델을 다시 학습시키지 않고 바로 적용하기\n",
    "check_cb = keras.callbacks.ModelCheckpoint('best_LSTM_model.h5',   # 저장할 모델의 파일 이름\n",
    "                                           save_best_only=True)  # 가장 좋은 성능을 보인 가중치만 저장\n",
    "early_stopping = keras.callbacks.EarlyStopping(patience=3,                  # 모델이 더이상 개선되지 않을 때 바로 멈추지 않고 몇 번의 에포크를 기다릴지 설정\n",
    "                                               restore_best_weights=True)  # 모델 학습이 중단되었을 때 값이 아닌 그 전에 최솟값이 나왔다면 그 값으로 저장"
   ]
  },
  {
   "cell_type": "code",
   "execution_count": 54,
   "id": "9e52d383",
   "metadata": {},
   "outputs": [
    {
     "name": "stdout",
     "output_type": "stream",
     "text": [
      "Epoch 1/100\n",
      "313/313 [==============================] - 4s 14ms/step - loss: 0.6916 - accuracy: 0.5488 - val_loss: 0.6898 - val_accuracy: 0.5724\n",
      "Epoch 2/100\n",
      "313/313 [==============================] - 4s 14ms/step - loss: 0.6818 - accuracy: 0.6004 - val_loss: 0.6447 - val_accuracy: 0.6812\n",
      "Epoch 3/100\n",
      "313/313 [==============================] - 4s 13ms/step - loss: 0.5797 - accuracy: 0.7451 - val_loss: 0.5552 - val_accuracy: 0.7666\n",
      "Epoch 4/100\n",
      "313/313 [==============================] - 4s 13ms/step - loss: 0.5371 - accuracy: 0.7745 - val_loss: 0.5337 - val_accuracy: 0.7740\n",
      "Epoch 5/100\n",
      "313/313 [==============================] - 4s 13ms/step - loss: 0.5151 - accuracy: 0.7866 - val_loss: 0.5166 - val_accuracy: 0.7814\n",
      "Epoch 6/100\n",
      "313/313 [==============================] - 4s 14ms/step - loss: 0.4958 - accuracy: 0.7943 - val_loss: 0.5026 - val_accuracy: 0.7826\n",
      "Epoch 7/100\n",
      "313/313 [==============================] - 4s 13ms/step - loss: 0.4779 - accuracy: 0.8020 - val_loss: 0.4915 - val_accuracy: 0.7818\n",
      "Epoch 8/100\n",
      "313/313 [==============================] - 4s 13ms/step - loss: 0.4632 - accuracy: 0.8057 - val_loss: 0.4764 - val_accuracy: 0.7856\n",
      "Epoch 9/100\n",
      "313/313 [==============================] - 4s 13ms/step - loss: 0.4484 - accuracy: 0.8113 - val_loss: 0.4629 - val_accuracy: 0.7930\n",
      "Epoch 10/100\n",
      "313/313 [==============================] - 4s 13ms/step - loss: 0.4357 - accuracy: 0.8153 - val_loss: 0.4529 - val_accuracy: 0.7996\n",
      "Epoch 11/100\n",
      "313/313 [==============================] - 4s 14ms/step - loss: 0.4260 - accuracy: 0.8189 - val_loss: 0.4465 - val_accuracy: 0.7968\n",
      "Epoch 12/100\n",
      "313/313 [==============================] - 5s 15ms/step - loss: 0.4191 - accuracy: 0.8213 - val_loss: 0.4408 - val_accuracy: 0.7996\n",
      "Epoch 13/100\n",
      "313/313 [==============================] - 5s 16ms/step - loss: 0.4133 - accuracy: 0.8245 - val_loss: 0.4412 - val_accuracy: 0.8000\n",
      "Epoch 14/100\n",
      "313/313 [==============================] - 5s 15ms/step - loss: 0.4090 - accuracy: 0.8251 - val_loss: 0.4324 - val_accuracy: 0.8052\n",
      "Epoch 15/100\n",
      "313/313 [==============================] - 5s 15ms/step - loss: 0.4058 - accuracy: 0.8252 - val_loss: 0.4299 - val_accuracy: 0.8078\n",
      "Epoch 16/100\n",
      "313/313 [==============================] - 5s 15ms/step - loss: 0.4022 - accuracy: 0.8248 - val_loss: 0.4272 - val_accuracy: 0.8084\n",
      "Epoch 17/100\n",
      "313/313 [==============================] - 5s 14ms/step - loss: 0.3999 - accuracy: 0.8268 - val_loss: 0.4258 - val_accuracy: 0.8054\n",
      "Epoch 18/100\n",
      "313/313 [==============================] - 5s 15ms/step - loss: 0.3977 - accuracy: 0.8267 - val_loss: 0.4233 - val_accuracy: 0.8066\n",
      "Epoch 19/100\n",
      "313/313 [==============================] - 5s 15ms/step - loss: 0.3961 - accuracy: 0.8280 - val_loss: 0.4278 - val_accuracy: 0.8072\n",
      "Epoch 20/100\n",
      "313/313 [==============================] - 4s 14ms/step - loss: 0.3938 - accuracy: 0.8303 - val_loss: 0.4207 - val_accuracy: 0.8090\n",
      "Epoch 21/100\n",
      "313/313 [==============================] - 4s 14ms/step - loss: 0.3926 - accuracy: 0.8288 - val_loss: 0.4196 - val_accuracy: 0.8108\n",
      "Epoch 22/100\n",
      "313/313 [==============================] - 5s 14ms/step - loss: 0.3911 - accuracy: 0.8288 - val_loss: 0.4165 - val_accuracy: 0.8132\n",
      "Epoch 23/100\n",
      "313/313 [==============================] - 4s 14ms/step - loss: 0.3899 - accuracy: 0.8299 - val_loss: 0.4158 - val_accuracy: 0.8106\n",
      "Epoch 24/100\n",
      "313/313 [==============================] - 4s 14ms/step - loss: 0.3882 - accuracy: 0.8292 - val_loss: 0.4165 - val_accuracy: 0.8102\n",
      "Epoch 25/100\n",
      "313/313 [==============================] - 4s 14ms/step - loss: 0.3868 - accuracy: 0.8300 - val_loss: 0.4161 - val_accuracy: 0.8106\n",
      "Epoch 26/100\n",
      "313/313 [==============================] - 5s 15ms/step - loss: 0.3864 - accuracy: 0.8306 - val_loss: 0.4145 - val_accuracy: 0.8122\n",
      "Epoch 27/100\n",
      "313/313 [==============================] - 5s 14ms/step - loss: 0.3855 - accuracy: 0.8304 - val_loss: 0.4132 - val_accuracy: 0.8130\n",
      "Epoch 28/100\n",
      "313/313 [==============================] - 5s 14ms/step - loss: 0.3843 - accuracy: 0.8310 - val_loss: 0.4119 - val_accuracy: 0.8122\n",
      "Epoch 29/100\n",
      "313/313 [==============================] - 5s 14ms/step - loss: 0.3839 - accuracy: 0.8321 - val_loss: 0.4115 - val_accuracy: 0.8140\n",
      "Epoch 30/100\n",
      "313/313 [==============================] - 5s 15ms/step - loss: 0.3835 - accuracy: 0.8309 - val_loss: 0.4106 - val_accuracy: 0.8108\n",
      "Epoch 31/100\n",
      "313/313 [==============================] - 4s 14ms/step - loss: 0.3826 - accuracy: 0.8310 - val_loss: 0.4124 - val_accuracy: 0.8130\n",
      "Epoch 32/100\n",
      "313/313 [==============================] - 5s 14ms/step - loss: 0.3818 - accuracy: 0.8298 - val_loss: 0.4147 - val_accuracy: 0.8114\n",
      "Epoch 33/100\n",
      "313/313 [==============================] - 5s 15ms/step - loss: 0.3813 - accuracy: 0.8300 - val_loss: 0.4129 - val_accuracy: 0.8136\n"
     ]
    }
   ],
   "source": [
    "# 모델 저장\n",
    "history = model.fit(train_seq,\n",
    "                    train_target,\n",
    "                    epochs=100,\n",
    "                    batch_size=64,\n",
    "                    validation_data=(val_seq, val_target),\n",
    "                    callbacks=[check_cb, early_stopping]\n",
    "                   )"
   ]
  },
  {
   "cell_type": "code",
   "execution_count": 55,
   "id": "70ee85ce",
   "metadata": {},
   "outputs": [
    {
     "data": {
      "image/png": "[encoded data removed]",
      "text/plain": [
       "<Figure size 640x480 with 1 Axes>"
      ]
     },
     "metadata": {},
     "output_type": "display_data"
    }
   ],
   "source": [
    "# 변수 history의 history 필드\n",
    "plt.plot(history.history['loss'])\n",
    "plt.plot(history.history['val_loss'])\n",
    "plt.xlabel('epochs')\n",
    "plt.ylabel('loss')\n",
    "plt.legend(['train', 'val'])\n",
    "plt.show()"
   ]
  },
  {
   "cell_type": "code",
   "execution_count": null,
   "id": "a134bed0",
   "metadata": {},
   "outputs": [],
   "source": []
  }
 ],
 "metadata": {
  "kernelspec": {
   "display_name": "Python 3 (ipykernel)",
   "language": "python",
   "name": "python3"
  },
  "language_info": {
   "codemirror_mode": {
    "name": "ipython",
    "version": 3
   },
   "file_extension": ".py",
   "mimetype": "text/x-python",
   "name": "python",
   "nbconvert_exporter": "python",
   "pygments_lexer": "ipython3",
   "version": "3.8.19"
  }
 },
 "nbformat": 4,
 "nbformat_minor": 5
}
