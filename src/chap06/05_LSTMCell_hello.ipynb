{
 "cells": [
  {
   "cell_type": "markdown",
   "id": "188cb9d3",
   "metadata": {},
   "source": [
    "# 05. LSTM Cell\n",
    "### hihell >> ihello : hihello"
   ]
  },
  {
   "cell_type": "code",
   "execution_count": 1,
   "id": "928506f9",
   "metadata": {},
   "outputs": [],
   "source": [
    "import numpy as np\n",
    "import tensorflow as tf"
   ]
  },
  {
   "cell_type": "code",
   "execution_count": 5,
   "id": "25733469",
   "metadata": {},
   "outputs": [],
   "source": [
    "# h가 들어가면 i가 나오고, i가 들어가면 h가 나오고, 다시 h가 들어가면 e가 나오는 예측 모델\n",
    "\n",
    "idx2char = ['h', 'i', 'e', 'l', 'o']\n",
    "num_classes = 5 # 5개 데이터 출력 (한 알파벳당 출력 5개 (e.g. h: 1, 0, 0, 0, 0))\n",
    "input_dim = 5   # 입력도 5개\n",
    "sequence_len = 6\n",
    "learning_rate = 0.1"
   ]
  },
  {
   "cell_type": "code",
   "execution_count": 14,
   "id": "0b550217",
   "metadata": {},
   "outputs": [],
   "source": [
    "# x_data = [[0, 1, 0, 2, 3, 3]] (hihell => 0=h, 1=i, 2=e와 같이 숫자 인덱스로 매핑)\n",
    "\n",
    "x_onehot = np.array([[[1, 0, 0, 0, 0],   # h\n",
    "                      [0, 1, 0, 0, 0],  # i\n",
    "                      [1, 0, 0, 0, 0],  # h\n",
    "                      [0, 0, 1, 0, 0],  # e\n",
    "                      [0, 0, 0, 1, 0],  # l\n",
    "                      [0, 0, 0, 1, 0]]], # l\n",
    "                     dtype=np.float32)"
   ]
  },
  {
   "cell_type": "code",
   "execution_count": 15,
   "id": "32baeea8",
   "metadata": {},
   "outputs": [
    {
     "data": {
      "text/plain": [
       "array([[[0., 1., 0., 0., 0.],\n",
       "        [1., 0., 0., 0., 0.],\n",
       "        [0., 0., 1., 0., 0.],\n",
       "        [0., 0., 0., 1., 0.],\n",
       "        [0., 0., 0., 1., 0.],\n",
       "        [0., 0., 0., 0., 1.]]], dtype=float32)"
      ]
     },
     "execution_count": 15,
     "metadata": {},
     "output_type": "execute_result"
    }
   ],
   "source": [
    "# y 데이터는 onehot encoding 함수 이용\n",
    "y_data = [[1, 0, 2, 3, 3, 4]]  # ihello\n",
    "\n",
    "y_onehot = tf.keras.utils.to_categorical(y_data, num_classes=num_classes)\n",
    "y_onehot"
   ]
  },
  {
   "cell_type": "code",
   "execution_count": 16,
   "id": "8179d161",
   "metadata": {},
   "outputs": [
    {
     "name": "stdout",
     "output_type": "stream",
     "text": [
      "(1, 6, 5)\n",
      "(1, 6, 5)\n"
     ]
    }
   ],
   "source": [
    "print(x_onehot.shape)\n",
    "print(y_onehot.shape)"
   ]
  },
  {
   "cell_type": "code",
   "execution_count": 17,
   "id": "6cee137e",
   "metadata": {},
   "outputs": [],
   "source": [
    "# 모델 생성\n",
    "model = tf.keras.Sequential()\n",
    "\n",
    "# 신경망 구성\n",
    "cell = tf.keras.layers.LSTMCell(units=num_classes,                       # 출력데이터의 수\n",
    "                                input_shape=(sequence_len, input_dim))   # 입력 데이터는 6개 (h, i, h, e, l, l), feature의 수 5개\n",
    "model.add(tf.keras.layers.RNN(cell=cell, return_sequences=True))"
   ]
  },
  {
   "cell_type": "code",
   "execution_count": 18,
   "id": "42bfcc27",
   "metadata": {},
   "outputs": [],
   "source": [
    "# fully connected layer\n",
    "# TimeDistributed: 시계열 데이터에 대한 완전 연결형 계층\n",
    "model.add(tf.keras.layers.TimeDistributed(tf.keras.layers.Dense(units=num_classes,\n",
    "                                                                activation='softmax')))"
   ]
  },
  {
   "cell_type": "code",
   "execution_count": 19,
   "id": "600d6c61",
   "metadata": {},
   "outputs": [],
   "source": [
    "model.compile(loss='categorical_crossentropy',\n",
    "              optimizer=tf.keras.optimizers.Adam(learning_rate=learning_rate),\n",
    "              metrics='accuracy')"
   ]
  },
  {
   "cell_type": "code",
   "execution_count": 20,
   "id": "094aff84",
   "metadata": {},
   "outputs": [
    {
     "name": "stdout",
     "output_type": "stream",
     "text": [
      "Epoch 1/50\n",
      "1/1 [==============================] - 0s 502us/step - loss: 1.5533 - accuracy: 0.3333\n",
      "Epoch 2/50\n",
      "1/1 [==============================] - 0s 997us/step - loss: 1.4179 - accuracy: 0.3333\n",
      "Epoch 3/50\n",
      "1/1 [==============================] - 0s 0s/step - loss: 1.3407 - accuracy: 0.3333\n",
      "Epoch 4/50\n",
      "1/1 [==============================] - 0s 1ms/step - loss: 1.2402 - accuracy: 0.3333\n",
      "Epoch 5/50\n",
      "1/1 [==============================] - 0s 1ms/step - loss: 1.1212 - accuracy: 0.5000\n",
      "Epoch 6/50\n",
      "1/1 [==============================] - 0s 996us/step - loss: 0.9815 - accuracy: 0.5000\n",
      "Epoch 7/50\n",
      "1/1 [==============================] - 0s 997us/step - loss: 0.8459 - accuracy: 0.6667\n",
      "Epoch 8/50\n",
      "1/1 [==============================] - 0s 1ms/step - loss: 0.7255 - accuracy: 0.8333\n",
      "Epoch 9/50\n",
      "1/1 [==============================] - 0s 2ms/step - loss: 0.6211 - accuracy: 1.0000\n",
      "Epoch 10/50\n",
      "1/1 [==============================] - 0s 1ms/step - loss: 0.5383 - accuracy: 1.0000\n",
      "Epoch 11/50\n",
      "1/1 [==============================] - 0s 0s/step - loss: 0.4652 - accuracy: 1.0000\n",
      "Epoch 12/50\n",
      "1/1 [==============================] - 0s 996us/step - loss: 0.3997 - accuracy: 1.0000\n",
      "Epoch 13/50\n",
      "1/1 [==============================] - 0s 0s/step - loss: 0.3408 - accuracy: 1.0000\n",
      "Epoch 14/50\n",
      "1/1 [==============================] - 0s 1ms/step - loss: 0.2858 - accuracy: 1.0000\n",
      "Epoch 15/50\n",
      "1/1 [==============================] - 0s 0s/step - loss: 0.2360 - accuracy: 1.0000\n",
      "Epoch 16/50\n",
      "1/1 [==============================] - 0s 1ms/step - loss: 0.1935 - accuracy: 1.0000\n",
      "Epoch 17/50\n",
      "1/1 [==============================] - 0s 1ms/step - loss: 0.1559 - accuracy: 1.0000\n",
      "Epoch 18/50\n",
      "1/1 [==============================] - 0s 1ms/step - loss: 0.1217 - accuracy: 1.0000\n",
      "Epoch 19/50\n",
      "1/1 [==============================] - 0s 1ms/step - loss: 0.0930 - accuracy: 1.0000\n",
      "Epoch 20/50\n",
      "1/1 [==============================] - 0s 1ms/step - loss: 0.0707 - accuracy: 1.0000\n",
      "Epoch 21/50\n",
      "1/1 [==============================] - 0s 1ms/step - loss: 0.0535 - accuracy: 1.0000\n",
      "Epoch 22/50\n",
      "1/1 [==============================] - 0s 997us/step - loss: 0.0402 - accuracy: 1.0000\n",
      "Epoch 23/50\n",
      "1/1 [==============================] - 0s 997us/step - loss: 0.0304 - accuracy: 1.0000\n",
      "Epoch 24/50\n",
      "1/1 [==============================] - 0s 997us/step - loss: 0.0230 - accuracy: 1.0000\n",
      "Epoch 25/50\n",
      "1/1 [==============================] - 0s 1ms/step - loss: 0.0174 - accuracy: 1.0000\n",
      "Epoch 26/50\n",
      "1/1 [==============================] - 0s 1ms/step - loss: 0.0134 - accuracy: 1.0000\n",
      "Epoch 27/50\n",
      "1/1 [==============================] - 0s 0s/step - loss: 0.0104 - accuracy: 1.0000\n",
      "Epoch 28/50\n",
      "1/1 [==============================] - 0s 997us/step - loss: 0.0081 - accuracy: 1.0000\n",
      "Epoch 29/50\n",
      "1/1 [==============================] - 0s 1ms/step - loss: 0.0064 - accuracy: 1.0000\n",
      "Epoch 30/50\n",
      "1/1 [==============================] - 0s 0s/step - loss: 0.0052 - accuracy: 1.0000\n",
      "Epoch 31/50\n",
      "1/1 [==============================] - 0s 1ms/step - loss: 0.0043 - accuracy: 1.0000\n",
      "Epoch 32/50\n",
      "1/1 [==============================] - 0s 996us/step - loss: 0.0036 - accuracy: 1.0000\n",
      "Epoch 33/50\n",
      "1/1 [==============================] - 0s 2ms/step - loss: 0.0031 - accuracy: 1.0000\n",
      "Epoch 34/50\n",
      "1/1 [==============================] - 0s 2ms/step - loss: 0.0027 - accuracy: 1.0000\n",
      "Epoch 35/50\n",
      "1/1 [==============================] - 0s 3ms/step - loss: 0.0024 - accuracy: 1.0000\n",
      "Epoch 36/50\n",
      "1/1 [==============================] - 0s 1ms/step - loss: 0.0021 - accuracy: 1.0000\n",
      "Epoch 37/50\n",
      "1/1 [==============================] - 0s 1ms/step - loss: 0.0019 - accuracy: 1.0000\n",
      "Epoch 38/50\n",
      "1/1 [==============================] - 0s 1ms/step - loss: 0.0017 - accuracy: 1.0000\n",
      "Epoch 39/50\n",
      "1/1 [==============================] - 0s 1ms/step - loss: 0.0016 - accuracy: 1.0000\n",
      "Epoch 40/50\n",
      "1/1 [==============================] - 0s 1ms/step - loss: 0.0015 - accuracy: 1.0000\n",
      "Epoch 41/50\n",
      "1/1 [==============================] - 0s 1ms/step - loss: 0.0014 - accuracy: 1.0000\n",
      "Epoch 42/50\n",
      "1/1 [==============================] - 0s 0s/step - loss: 0.0013 - accuracy: 1.0000\n",
      "Epoch 43/50\n",
      "1/1 [==============================] - 0s 1ms/step - loss: 0.0012 - accuracy: 1.0000\n",
      "Epoch 44/50\n",
      "1/1 [==============================] - 0s 0s/step - loss: 0.0011 - accuracy: 1.0000\n",
      "Epoch 45/50\n",
      "1/1 [==============================] - 0s 1ms/step - loss: 0.0011 - accuracy: 1.0000\n",
      "Epoch 46/50\n",
      "1/1 [==============================] - 0s 0s/step - loss: 0.0010 - accuracy: 1.0000\n",
      "Epoch 47/50\n",
      "1/1 [==============================] - 0s 1ms/step - loss: 9.9824e-04 - accuracy: 1.0000\n",
      "Epoch 48/50\n",
      "1/1 [==============================] - 0s 1ms/step - loss: 9.6002e-04 - accuracy: 1.0000\n",
      "Epoch 49/50\n",
      "1/1 [==============================] - 0s 0s/step - loss: 9.2616e-04 - accuracy: 1.0000\n",
      "Epoch 50/50\n",
      "1/1 [==============================] - 0s 0s/step - loss: 8.9762e-04 - accuracy: 1.0000\n"
     ]
    },
    {
     "data": {
      "text/plain": [
       "<tensorflow.python.keras.callbacks.History at 0x1b92aaa33a0>"
      ]
     },
     "execution_count": 20,
     "metadata": {},
     "output_type": "execute_result"
    }
   ],
   "source": [
    "model.fit(x_onehot, y_onehot, epochs=50)"
   ]
  },
  {
   "cell_type": "code",
   "execution_count": 22,
   "id": "fa229b4e",
   "metadata": {},
   "outputs": [],
   "source": [
    "predictions = model.predict(x_onehot)"
   ]
  },
  {
   "cell_type": "code",
   "execution_count": 25,
   "id": "b95a03fe",
   "metadata": {},
   "outputs": [
    {
     "name": "stdout",
     "output_type": "stream",
     "text": [
      "[[2.24244955e-04 9.98815656e-01 9.06705682e-04 5.22636365e-05\n",
      "  1.17179763e-06]\n",
      " [9.99587595e-01 1.06901789e-04 2.91300355e-04 1.27276735e-05\n",
      "  1.47306548e-06]\n",
      " [2.78581632e-04 4.77815542e-04 9.98403132e-01 2.21458700e-04\n",
      "  6.19074446e-04]\n",
      " [3.89962588e-06 7.59880932e-05 6.99862940e-05 9.99846458e-01\n",
      "  3.71779629e-06]\n",
      " [1.05624431e-05 2.76296146e-06 1.04971965e-04 9.99212861e-01\n",
      "  6.68839260e-04]\n",
      " [5.94958146e-05 1.64337762e-04 5.43790928e-04 3.36023018e-04\n",
      "  9.98896360e-01]]\n",
      "\n",
      "\n",
      "예측 결과: ihello\n"
     ]
    }
   ],
   "source": [
    "for i, prediction in enumerate(predictions):\n",
    "    # 확률값으로 계산된 예측값\n",
    "    print(prediction)\n",
    "    result_str = [idx2char[c] for c in np.argmax(prediction, axis=1)]\n",
    "    # 열 값에서 가장 큰 값이 인덱스가 되고, 그 인덱스가 담겨진 알파벳을 출력\n",
    "    \n",
    "    print(\"\\n\\n예측 결과:\", \"\".join(result_str))"
   ]
  },
  {
   "cell_type": "code",
   "execution_count": null,
   "id": "59e16a7a",
   "metadata": {},
   "outputs": [],
   "source": []
  }
 ],
 "metadata": {
  "kernelspec": {
   "display_name": "Python 3 (ipykernel)",
   "language": "python",
   "name": "python3"
  },
  "language_info": {
   "codemirror_mode": {
    "name": "ipython",
    "version": 3
   },
   "file_extension": ".py",
   "mimetype": "text/x-python",
   "name": "python",
   "nbconvert_exporter": "python",
   "pygments_lexer": "ipython3",
   "version": "3.8.19"
  }
 },
 "nbformat": 4,
 "nbformat_minor": 5
}
